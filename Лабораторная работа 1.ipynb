{
 "cells": [
  {
   "cell_type": "code",
   "execution_count": 1,
   "metadata": {},
   "outputs": [],
   "source": [
    "import pandas as pd\n",
    "import numpy as np\n",
    "from matplotlib import pyplot as plt\n",
    "%matplotlib inline\n",
    "\n",
    "# чтобы не было большого количества строк с технической информацией при подборе подходящих параметров. \n",
    "# При написании программы сообщения были включены, но при загрузке на github они мешают\n",
    "import warnings\n",
    "warnings.simplefilter('ignore')"
   ]
  },
  {
   "cell_type": "markdown",
   "metadata": {},
   "source": [
    "# 1. Загрузить данные из папки Data Folder"
   ]
  },
  {
   "cell_type": "code",
   "execution_count": 2,
   "metadata": {},
   "outputs": [
    {
     "data": {
      "text/html": [
       "<div>\n",
       "<style scoped>\n",
       "    .dataframe tbody tr th:only-of-type {\n",
       "        vertical-align: middle;\n",
       "    }\n",
       "\n",
       "    .dataframe tbody tr th {\n",
       "        vertical-align: top;\n",
       "    }\n",
       "\n",
       "    .dataframe thead th {\n",
       "        text-align: right;\n",
       "    }\n",
       "</style>\n",
       "<table border=\"1\" class=\"dataframe\">\n",
       "  <thead>\n",
       "    <tr style=\"text-align: right;\">\n",
       "      <th></th>\n",
       "      <th>name</th>\n",
       "      <th>landmass</th>\n",
       "      <th>zone</th>\n",
       "      <th>area</th>\n",
       "      <th>population</th>\n",
       "      <th>language</th>\n",
       "      <th>religion</th>\n",
       "      <th>bars</th>\n",
       "      <th>stripes</th>\n",
       "      <th>colours</th>\n",
       "      <th>...</th>\n",
       "      <th>saltires</th>\n",
       "      <th>quarters</th>\n",
       "      <th>sunstars</th>\n",
       "      <th>crescent</th>\n",
       "      <th>triangle</th>\n",
       "      <th>icon</th>\n",
       "      <th>animate</th>\n",
       "      <th>text</th>\n",
       "      <th>topleft</th>\n",
       "      <th>botright</th>\n",
       "    </tr>\n",
       "  </thead>\n",
       "  <tbody>\n",
       "    <tr>\n",
       "      <th>0</th>\n",
       "      <td>Afghanistan</td>\n",
       "      <td>5</td>\n",
       "      <td>1</td>\n",
       "      <td>648</td>\n",
       "      <td>16</td>\n",
       "      <td>10</td>\n",
       "      <td>2</td>\n",
       "      <td>0</td>\n",
       "      <td>3</td>\n",
       "      <td>5</td>\n",
       "      <td>...</td>\n",
       "      <td>0</td>\n",
       "      <td>0</td>\n",
       "      <td>1</td>\n",
       "      <td>0</td>\n",
       "      <td>0</td>\n",
       "      <td>1</td>\n",
       "      <td>0</td>\n",
       "      <td>0</td>\n",
       "      <td>black</td>\n",
       "      <td>green</td>\n",
       "    </tr>\n",
       "    <tr>\n",
       "      <th>1</th>\n",
       "      <td>Albania</td>\n",
       "      <td>3</td>\n",
       "      <td>1</td>\n",
       "      <td>29</td>\n",
       "      <td>3</td>\n",
       "      <td>6</td>\n",
       "      <td>6</td>\n",
       "      <td>0</td>\n",
       "      <td>0</td>\n",
       "      <td>3</td>\n",
       "      <td>...</td>\n",
       "      <td>0</td>\n",
       "      <td>0</td>\n",
       "      <td>1</td>\n",
       "      <td>0</td>\n",
       "      <td>0</td>\n",
       "      <td>0</td>\n",
       "      <td>1</td>\n",
       "      <td>0</td>\n",
       "      <td>red</td>\n",
       "      <td>red</td>\n",
       "    </tr>\n",
       "    <tr>\n",
       "      <th>2</th>\n",
       "      <td>Algeria</td>\n",
       "      <td>4</td>\n",
       "      <td>1</td>\n",
       "      <td>2388</td>\n",
       "      <td>20</td>\n",
       "      <td>8</td>\n",
       "      <td>2</td>\n",
       "      <td>2</td>\n",
       "      <td>0</td>\n",
       "      <td>3</td>\n",
       "      <td>...</td>\n",
       "      <td>0</td>\n",
       "      <td>0</td>\n",
       "      <td>1</td>\n",
       "      <td>1</td>\n",
       "      <td>0</td>\n",
       "      <td>0</td>\n",
       "      <td>0</td>\n",
       "      <td>0</td>\n",
       "      <td>green</td>\n",
       "      <td>white</td>\n",
       "    </tr>\n",
       "    <tr>\n",
       "      <th>3</th>\n",
       "      <td>American-Samoa</td>\n",
       "      <td>6</td>\n",
       "      <td>3</td>\n",
       "      <td>0</td>\n",
       "      <td>0</td>\n",
       "      <td>1</td>\n",
       "      <td>1</td>\n",
       "      <td>0</td>\n",
       "      <td>0</td>\n",
       "      <td>5</td>\n",
       "      <td>...</td>\n",
       "      <td>0</td>\n",
       "      <td>0</td>\n",
       "      <td>0</td>\n",
       "      <td>0</td>\n",
       "      <td>1</td>\n",
       "      <td>1</td>\n",
       "      <td>1</td>\n",
       "      <td>0</td>\n",
       "      <td>blue</td>\n",
       "      <td>red</td>\n",
       "    </tr>\n",
       "    <tr>\n",
       "      <th>4</th>\n",
       "      <td>Andorra</td>\n",
       "      <td>3</td>\n",
       "      <td>1</td>\n",
       "      <td>0</td>\n",
       "      <td>0</td>\n",
       "      <td>6</td>\n",
       "      <td>0</td>\n",
       "      <td>3</td>\n",
       "      <td>0</td>\n",
       "      <td>3</td>\n",
       "      <td>...</td>\n",
       "      <td>0</td>\n",
       "      <td>0</td>\n",
       "      <td>0</td>\n",
       "      <td>0</td>\n",
       "      <td>0</td>\n",
       "      <td>0</td>\n",
       "      <td>0</td>\n",
       "      <td>0</td>\n",
       "      <td>blue</td>\n",
       "      <td>red</td>\n",
       "    </tr>\n",
       "  </tbody>\n",
       "</table>\n",
       "<p>5 rows × 30 columns</p>\n",
       "</div>"
      ],
      "text/plain": [
       "             name  landmass  zone  area  population  language  religion  bars  \\\n",
       "0     Afghanistan         5     1   648          16        10         2     0   \n",
       "1         Albania         3     1    29           3         6         6     0   \n",
       "2         Algeria         4     1  2388          20         8         2     2   \n",
       "3  American-Samoa         6     3     0           0         1         1     0   \n",
       "4         Andorra         3     1     0           0         6         0     3   \n",
       "\n",
       "   stripes  colours  ...  saltires  quarters  sunstars  crescent  triangle  \\\n",
       "0        3        5  ...         0         0         1         0         0   \n",
       "1        0        3  ...         0         0         1         0         0   \n",
       "2        0        3  ...         0         0         1         1         0   \n",
       "3        0        5  ...         0         0         0         0         1   \n",
       "4        0        3  ...         0         0         0         0         0   \n",
       "\n",
       "   icon  animate text  topleft  botright  \n",
       "0     1        0    0    black     green  \n",
       "1     0        1    0      red       red  \n",
       "2     0        0    0    green     white  \n",
       "3     1        1    0     blue       red  \n",
       "4     0        0    0     blue       red  \n",
       "\n",
       "[5 rows x 30 columns]"
      ]
     },
     "execution_count": 2,
     "metadata": {},
     "output_type": "execute_result"
    }
   ],
   "source": [
    "columns = ['name', 'landmass', 'zone', 'area', 'population', 'language', 'religion', 'bars', 'stripes', 'colours', 'red', 'green', 'blue', 'gold', 'white', 'black', 'orange', 'mainhue', 'circles', 'crosses', 'saltires', 'quarters', 'sunstars', 'crescent', 'triangle', 'icon', 'animate', 'text', 'topleft', 'botright']\n",
    "\n",
    "data = pd.read_csv('D:/[Обучение]/ML/Лабораторная работа 1/flag.data', names=columns)\n",
    "\n",
    "data.head()"
   ]
  },
  {
   "cell_type": "markdown",
   "metadata": {},
   "source": [
    "# 2. Провести описательный анализ предложенных данных"
   ]
  },
  {
   "cell_type": "code",
   "execution_count": 3,
   "metadata": {},
   "outputs": [
    {
     "name": "stdout",
     "output_type": "stream",
     "text": [
      "<class 'pandas.core.frame.DataFrame'>\n",
      "RangeIndex: 194 entries, 0 to 193\n",
      "Data columns (total 30 columns):\n",
      "name          194 non-null object\n",
      "landmass      194 non-null int64\n",
      "zone          194 non-null int64\n",
      "area          194 non-null int64\n",
      "population    194 non-null int64\n",
      "language      194 non-null int64\n",
      "religion      194 non-null int64\n",
      "bars          194 non-null int64\n",
      "stripes       194 non-null int64\n",
      "colours       194 non-null int64\n",
      "red           194 non-null int64\n",
      "green         194 non-null int64\n",
      "blue          194 non-null int64\n",
      "gold          194 non-null int64\n",
      "white         194 non-null int64\n",
      "black         194 non-null int64\n",
      "orange        194 non-null int64\n",
      "mainhue       194 non-null object\n",
      "circles       194 non-null int64\n",
      "crosses       194 non-null int64\n",
      "saltires      194 non-null int64\n",
      "quarters      194 non-null int64\n",
      "sunstars      194 non-null int64\n",
      "crescent      194 non-null int64\n",
      "triangle      194 non-null int64\n",
      "icon          194 non-null int64\n",
      "animate       194 non-null int64\n",
      "text          194 non-null int64\n",
      "topleft       194 non-null object\n",
      "botright      194 non-null object\n",
      "dtypes: int64(26), object(4)\n",
      "memory usage: 45.5+ KB\n"
     ]
    }
   ],
   "source": [
    "data.info()"
   ]
  },
  {
   "cell_type": "markdown",
   "metadata": {},
   "source": [
    "В данных отсутствуют пропуски. Есть также категориальные переменные."
   ]
  },
  {
   "cell_type": "code",
   "execution_count": 4,
   "metadata": {},
   "outputs": [],
   "source": [
    "#поскольку категориальные переменные заданы числами, мы не можем опираться при выделении категориальных переменных на тип столбца\n",
    "#поэтому зададим вручную нужные нам столбцы\n",
    "\n",
    "cat_feat = ['landmass', 'zone', 'language', 'mainhue', 'topleft', 'botright']\n",
    "no_nun_feat = ['red', 'green', 'blue', 'gold', 'white', 'black', 'orange', 'triangle', 'icon', 'animate', 'text', 'topleft', 'crescent']\n",
    "num_feat = [f for f in data if f not in (cat_feat + no_nun_feat + ['religion'])]\n",
    "target = ['religion']"
   ]
  },
  {
   "cell_type": "code",
   "execution_count": 5,
   "metadata": {},
   "outputs": [
    {
     "data": {
      "text/html": [
       "<div>\n",
       "<style scoped>\n",
       "    .dataframe tbody tr th:only-of-type {\n",
       "        vertical-align: middle;\n",
       "    }\n",
       "\n",
       "    .dataframe tbody tr th {\n",
       "        vertical-align: top;\n",
       "    }\n",
       "\n",
       "    .dataframe thead th {\n",
       "        text-align: right;\n",
       "    }\n",
       "</style>\n",
       "<table border=\"1\" class=\"dataframe\">\n",
       "  <thead>\n",
       "    <tr style=\"text-align: right;\">\n",
       "      <th></th>\n",
       "      <th>area</th>\n",
       "      <th>population</th>\n",
       "      <th>bars</th>\n",
       "      <th>stripes</th>\n",
       "      <th>colours</th>\n",
       "      <th>circles</th>\n",
       "      <th>crosses</th>\n",
       "      <th>saltires</th>\n",
       "      <th>quarters</th>\n",
       "      <th>sunstars</th>\n",
       "    </tr>\n",
       "  </thead>\n",
       "  <tbody>\n",
       "    <tr>\n",
       "      <th>count</th>\n",
       "      <td>194.000000</td>\n",
       "      <td>194.000000</td>\n",
       "      <td>194.000000</td>\n",
       "      <td>194.000000</td>\n",
       "      <td>194.000000</td>\n",
       "      <td>194.000000</td>\n",
       "      <td>194.000000</td>\n",
       "      <td>194.000000</td>\n",
       "      <td>194.000000</td>\n",
       "      <td>194.000000</td>\n",
       "    </tr>\n",
       "    <tr>\n",
       "      <th>mean</th>\n",
       "      <td>700.046392</td>\n",
       "      <td>23.268041</td>\n",
       "      <td>0.453608</td>\n",
       "      <td>1.551546</td>\n",
       "      <td>3.463918</td>\n",
       "      <td>0.170103</td>\n",
       "      <td>0.149485</td>\n",
       "      <td>0.092784</td>\n",
       "      <td>0.149485</td>\n",
       "      <td>1.386598</td>\n",
       "    </tr>\n",
       "    <tr>\n",
       "      <th>std</th>\n",
       "      <td>2170.927932</td>\n",
       "      <td>91.934085</td>\n",
       "      <td>1.038339</td>\n",
       "      <td>2.328005</td>\n",
       "      <td>1.300154</td>\n",
       "      <td>0.463075</td>\n",
       "      <td>0.385387</td>\n",
       "      <td>0.290879</td>\n",
       "      <td>0.435860</td>\n",
       "      <td>4.396186</td>\n",
       "    </tr>\n",
       "    <tr>\n",
       "      <th>min</th>\n",
       "      <td>0.000000</td>\n",
       "      <td>0.000000</td>\n",
       "      <td>0.000000</td>\n",
       "      <td>0.000000</td>\n",
       "      <td>1.000000</td>\n",
       "      <td>0.000000</td>\n",
       "      <td>0.000000</td>\n",
       "      <td>0.000000</td>\n",
       "      <td>0.000000</td>\n",
       "      <td>0.000000</td>\n",
       "    </tr>\n",
       "    <tr>\n",
       "      <th>25%</th>\n",
       "      <td>9.000000</td>\n",
       "      <td>0.000000</td>\n",
       "      <td>0.000000</td>\n",
       "      <td>0.000000</td>\n",
       "      <td>3.000000</td>\n",
       "      <td>0.000000</td>\n",
       "      <td>0.000000</td>\n",
       "      <td>0.000000</td>\n",
       "      <td>0.000000</td>\n",
       "      <td>0.000000</td>\n",
       "    </tr>\n",
       "    <tr>\n",
       "      <th>50%</th>\n",
       "      <td>111.000000</td>\n",
       "      <td>4.000000</td>\n",
       "      <td>0.000000</td>\n",
       "      <td>0.000000</td>\n",
       "      <td>3.000000</td>\n",
       "      <td>0.000000</td>\n",
       "      <td>0.000000</td>\n",
       "      <td>0.000000</td>\n",
       "      <td>0.000000</td>\n",
       "      <td>0.000000</td>\n",
       "    </tr>\n",
       "    <tr>\n",
       "      <th>75%</th>\n",
       "      <td>471.250000</td>\n",
       "      <td>14.000000</td>\n",
       "      <td>0.000000</td>\n",
       "      <td>3.000000</td>\n",
       "      <td>4.000000</td>\n",
       "      <td>0.000000</td>\n",
       "      <td>0.000000</td>\n",
       "      <td>0.000000</td>\n",
       "      <td>0.000000</td>\n",
       "      <td>1.000000</td>\n",
       "    </tr>\n",
       "    <tr>\n",
       "      <th>max</th>\n",
       "      <td>22402.000000</td>\n",
       "      <td>1008.000000</td>\n",
       "      <td>5.000000</td>\n",
       "      <td>14.000000</td>\n",
       "      <td>8.000000</td>\n",
       "      <td>4.000000</td>\n",
       "      <td>2.000000</td>\n",
       "      <td>1.000000</td>\n",
       "      <td>4.000000</td>\n",
       "      <td>50.000000</td>\n",
       "    </tr>\n",
       "  </tbody>\n",
       "</table>\n",
       "</div>"
      ],
      "text/plain": [
       "               area   population        bars     stripes     colours  \\\n",
       "count    194.000000   194.000000  194.000000  194.000000  194.000000   \n",
       "mean     700.046392    23.268041    0.453608    1.551546    3.463918   \n",
       "std     2170.927932    91.934085    1.038339    2.328005    1.300154   \n",
       "min        0.000000     0.000000    0.000000    0.000000    1.000000   \n",
       "25%        9.000000     0.000000    0.000000    0.000000    3.000000   \n",
       "50%      111.000000     4.000000    0.000000    0.000000    3.000000   \n",
       "75%      471.250000    14.000000    0.000000    3.000000    4.000000   \n",
       "max    22402.000000  1008.000000    5.000000   14.000000    8.000000   \n",
       "\n",
       "          circles     crosses    saltires    quarters    sunstars  \n",
       "count  194.000000  194.000000  194.000000  194.000000  194.000000  \n",
       "mean     0.170103    0.149485    0.092784    0.149485    1.386598  \n",
       "std      0.463075    0.385387    0.290879    0.435860    4.396186  \n",
       "min      0.000000    0.000000    0.000000    0.000000    0.000000  \n",
       "25%      0.000000    0.000000    0.000000    0.000000    0.000000  \n",
       "50%      0.000000    0.000000    0.000000    0.000000    0.000000  \n",
       "75%      0.000000    0.000000    0.000000    0.000000    1.000000  \n",
       "max      4.000000    2.000000    1.000000    4.000000   50.000000  "
      ]
     },
     "execution_count": 5,
     "metadata": {},
     "output_type": "execute_result"
    }
   ],
   "source": [
    "data[num_feat].describe()"
   ]
  },
  {
   "cell_type": "markdown",
   "metadata": {},
   "source": [
    "# 3. Предложить стратегию по работе с категориальными переменными"
   ]
  },
  {
   "cell_type": "markdown",
   "metadata": {},
   "source": [
    "Думаю, наиболее правильным вариантом было бы заменить значения, где стоят цифры вместо названий, вернуть соответствующие названия. Чтобы потом, если бы я использовала get_dummies, были адекватные названия столбцов."
   ]
  },
  {
   "cell_type": "code",
   "execution_count": 6,
   "metadata": {},
   "outputs": [],
   "source": [
    "data.landmass = data.landmass.replace({1: 'N.America', 2: 'S.America', 3:'Europe', 4:'Africa', 5:'Asia', 6: 'Oceania'})\n",
    "data.zone = data.zone.replace({1: 'NE', 2: 'SE', 3: 'SW', 4: 'NW'})\n",
    "data.language = data.language.replace({1: 'English', 2: 'Spanish', 3: 'French', 4: 'German', 5: 'Slavic', 6: 'Other Indo-European', 7: 'Chinese', 8: 'Arabic', 9: 'Japanese/Turkish/Finnish/Magyar', 10: 'Others'})\n",
    "\n",
    "#колонку с религией я не трогаю, т.к. всё равно потом в цифры переводить её"
   ]
  },
  {
   "cell_type": "markdown",
   "metadata": {},
   "source": [
    "# 4. Провести углубленный анализ данных (корреляции переменных,визуализация взаимосвязей)"
   ]
  },
  {
   "cell_type": "markdown",
   "metadata": {},
   "source": [
    "Считаю корреляции не на категориальных переменных"
   ]
  },
  {
   "cell_type": "code",
   "execution_count": 7,
   "metadata": {},
   "outputs": [
    {
     "data": {
      "text/html": [
       "<div>\n",
       "<style scoped>\n",
       "    .dataframe tbody tr th:only-of-type {\n",
       "        vertical-align: middle;\n",
       "    }\n",
       "\n",
       "    .dataframe tbody tr th {\n",
       "        vertical-align: top;\n",
       "    }\n",
       "\n",
       "    .dataframe thead th {\n",
       "        text-align: right;\n",
       "    }\n",
       "</style>\n",
       "<table border=\"1\" class=\"dataframe\">\n",
       "  <thead>\n",
       "    <tr style=\"text-align: right;\">\n",
       "      <th></th>\n",
       "      <th>area</th>\n",
       "      <th>population</th>\n",
       "      <th>bars</th>\n",
       "      <th>stripes</th>\n",
       "      <th>colours</th>\n",
       "      <th>circles</th>\n",
       "      <th>crosses</th>\n",
       "      <th>saltires</th>\n",
       "      <th>quarters</th>\n",
       "      <th>sunstars</th>\n",
       "    </tr>\n",
       "  </thead>\n",
       "  <tbody>\n",
       "    <tr>\n",
       "      <th>area</th>\n",
       "      <td>1.000000</td>\n",
       "      <td>0.519030</td>\n",
       "      <td>0.001243</td>\n",
       "      <td>0.028454</td>\n",
       "      <td>-0.162227</td>\n",
       "      <td>-0.005652</td>\n",
       "      <td>-0.057888</td>\n",
       "      <td>-0.025492</td>\n",
       "      <td>-0.001968</td>\n",
       "      <td>0.340572</td>\n",
       "    </tr>\n",
       "    <tr>\n",
       "      <th>population</th>\n",
       "      <td>0.519030</td>\n",
       "      <td>1.000000</td>\n",
       "      <td>-0.041392</td>\n",
       "      <td>0.030100</td>\n",
       "      <td>-0.115052</td>\n",
       "      <td>0.051257</td>\n",
       "      <td>-0.076305</td>\n",
       "      <td>-0.059061</td>\n",
       "      <td>-0.041349</td>\n",
       "      <td>0.191377</td>\n",
       "    </tr>\n",
       "    <tr>\n",
       "      <th>bars</th>\n",
       "      <td>0.001243</td>\n",
       "      <td>-0.041392</td>\n",
       "      <td>1.000000</td>\n",
       "      <td>-0.273371</td>\n",
       "      <td>-0.064574</td>\n",
       "      <td>-0.096650</td>\n",
       "      <td>-0.144432</td>\n",
       "      <td>-0.140070</td>\n",
       "      <td>-0.150604</td>\n",
       "      <td>-0.114667</td>\n",
       "    </tr>\n",
       "    <tr>\n",
       "      <th>stripes</th>\n",
       "      <td>0.028454</td>\n",
       "      <td>0.030100</td>\n",
       "      <td>-0.273371</td>\n",
       "      <td>1.000000</td>\n",
       "      <td>0.038278</td>\n",
       "      <td>-0.087479</td>\n",
       "      <td>-0.190550</td>\n",
       "      <td>-0.190735</td>\n",
       "      <td>0.091941</td>\n",
       "      <td>0.215486</td>\n",
       "    </tr>\n",
       "    <tr>\n",
       "      <th>colours</th>\n",
       "      <td>-0.162227</td>\n",
       "      <td>-0.115052</td>\n",
       "      <td>-0.064574</td>\n",
       "      <td>0.038278</td>\n",
       "      <td>1.000000</td>\n",
       "      <td>0.178062</td>\n",
       "      <td>0.253827</td>\n",
       "      <td>0.378810</td>\n",
       "      <td>0.187861</td>\n",
       "      <td>0.031008</td>\n",
       "    </tr>\n",
       "    <tr>\n",
       "      <th>circles</th>\n",
       "      <td>-0.005652</td>\n",
       "      <td>0.051257</td>\n",
       "      <td>-0.096650</td>\n",
       "      <td>-0.087479</td>\n",
       "      <td>0.178062</td>\n",
       "      <td>1.000000</td>\n",
       "      <td>0.030979</td>\n",
       "      <td>0.151485</td>\n",
       "      <td>0.053062</td>\n",
       "      <td>0.071881</td>\n",
       "    </tr>\n",
       "    <tr>\n",
       "      <th>crosses</th>\n",
       "      <td>-0.057888</td>\n",
       "      <td>-0.076305</td>\n",
       "      <td>-0.144432</td>\n",
       "      <td>-0.190550</td>\n",
       "      <td>0.253827</td>\n",
       "      <td>0.030979</td>\n",
       "      <td>1.000000</td>\n",
       "      <td>0.707599</td>\n",
       "      <td>0.421509</td>\n",
       "      <td>0.008528</td>\n",
       "    </tr>\n",
       "    <tr>\n",
       "      <th>saltires</th>\n",
       "      <td>-0.025492</td>\n",
       "      <td>-0.059061</td>\n",
       "      <td>-0.140070</td>\n",
       "      <td>-0.190735</td>\n",
       "      <td>0.378810</td>\n",
       "      <td>0.151485</td>\n",
       "      <td>0.707599</td>\n",
       "      <td>1.000000</td>\n",
       "      <td>0.462187</td>\n",
       "      <td>0.085256</td>\n",
       "    </tr>\n",
       "    <tr>\n",
       "      <th>quarters</th>\n",
       "      <td>-0.001968</td>\n",
       "      <td>-0.041349</td>\n",
       "      <td>-0.150604</td>\n",
       "      <td>0.091941</td>\n",
       "      <td>0.187861</td>\n",
       "      <td>0.053062</td>\n",
       "      <td>0.421509</td>\n",
       "      <td>0.462187</td>\n",
       "      <td>1.000000</td>\n",
       "      <td>0.231980</td>\n",
       "    </tr>\n",
       "    <tr>\n",
       "      <th>sunstars</th>\n",
       "      <td>0.340572</td>\n",
       "      <td>0.191377</td>\n",
       "      <td>-0.114667</td>\n",
       "      <td>0.215486</td>\n",
       "      <td>0.031008</td>\n",
       "      <td>0.071881</td>\n",
       "      <td>0.008528</td>\n",
       "      <td>0.085256</td>\n",
       "      <td>0.231980</td>\n",
       "      <td>1.000000</td>\n",
       "    </tr>\n",
       "  </tbody>\n",
       "</table>\n",
       "</div>"
      ],
      "text/plain": [
       "                area  population      bars   stripes   colours   circles  \\\n",
       "area        1.000000    0.519030  0.001243  0.028454 -0.162227 -0.005652   \n",
       "population  0.519030    1.000000 -0.041392  0.030100 -0.115052  0.051257   \n",
       "bars        0.001243   -0.041392  1.000000 -0.273371 -0.064574 -0.096650   \n",
       "stripes     0.028454    0.030100 -0.273371  1.000000  0.038278 -0.087479   \n",
       "colours    -0.162227   -0.115052 -0.064574  0.038278  1.000000  0.178062   \n",
       "circles    -0.005652    0.051257 -0.096650 -0.087479  0.178062  1.000000   \n",
       "crosses    -0.057888   -0.076305 -0.144432 -0.190550  0.253827  0.030979   \n",
       "saltires   -0.025492   -0.059061 -0.140070 -0.190735  0.378810  0.151485   \n",
       "quarters   -0.001968   -0.041349 -0.150604  0.091941  0.187861  0.053062   \n",
       "sunstars    0.340572    0.191377 -0.114667  0.215486  0.031008  0.071881   \n",
       "\n",
       "             crosses  saltires  quarters  sunstars  \n",
       "area       -0.057888 -0.025492 -0.001968  0.340572  \n",
       "population -0.076305 -0.059061 -0.041349  0.191377  \n",
       "bars       -0.144432 -0.140070 -0.150604 -0.114667  \n",
       "stripes    -0.190550 -0.190735  0.091941  0.215486  \n",
       "colours     0.253827  0.378810  0.187861  0.031008  \n",
       "circles     0.030979  0.151485  0.053062  0.071881  \n",
       "crosses     1.000000  0.707599  0.421509  0.008528  \n",
       "saltires    0.707599  1.000000  0.462187  0.085256  \n",
       "quarters    0.421509  0.462187  1.000000  0.231980  \n",
       "sunstars    0.008528  0.085256  0.231980  1.000000  "
      ]
     },
     "execution_count": 7,
     "metadata": {},
     "output_type": "execute_result"
    }
   ],
   "source": [
    "data[num_feat].corr()"
   ]
  },
  {
   "cell_type": "code",
   "execution_count": 8,
   "metadata": {},
   "outputs": [
    {
     "data": {
      "image/png": "[encoded data removed]",
      "text/plain": [
       "<Figure size 432x288 with 2 Axes>"
      ]
     },
     "metadata": {},
     "output_type": "display_data"
    }
   ],
   "source": [
    "#для удобства, подсвечу визуально силу взаимосвязи\n",
    "\n",
    "import seaborn as snb\n",
    "snb.set()\n",
    "snb.heatmap(data[num_feat].corr(), linewidths=0.5);"
   ]
  },
  {
   "cell_type": "markdown",
   "metadata": {},
   "source": [
    "Самые сильные взаимосвязи между переменными quarters и crosses, а также между area и population"
   ]
  },
  {
   "cell_type": "markdown",
   "metadata": {},
   "source": [
    "# 5. Следует ли увеличивать/уменьшать размерность признакового множества (какой подход выдает лучшие результаты)"
   ]
  },
  {
   "cell_type": "markdown",
   "metadata": {},
   "source": [
    "У нас много колонок, но скорее всего, нужно смотреть на метрики качества. Если не возникнет проблем при работе методов, то такое количество колонок можно оставить."
   ]
  },
  {
   "cell_type": "markdown",
   "metadata": {},
   "source": [
    "# 6. Следует ли балансировать классы путем oversampling/undersampling? (улучшает ли подход результаты)"
   ]
  },
  {
   "cell_type": "code",
   "execution_count": 9,
   "metadata": {},
   "outputs": [
    {
     "data": {
      "text/plain": [
       "array([[<matplotlib.axes._subplots.AxesSubplot object at 0x000001E272929DA0>]],\n",
       "      dtype=object)"
      ]
     },
     "execution_count": 9,
     "metadata": {},
     "output_type": "execute_result"
    },
    {
     "data": {
      "image/png": "[encoded data removed]",
      "text/plain": [
       "<Figure size 432x288 with 1 Axes>"
      ]
     },
     "metadata": {},
     "output_type": "display_data"
    }
   ],
   "source": [
    "data[target].hist()"
   ]
  },
  {
   "cell_type": "markdown",
   "metadata": {},
   "source": [
    "Т.к. классов 3,4 и 7 заметно меньше, чем других, то преобразование данных может улучшить результат."
   ]
  },
  {
   "cell_type": "markdown",
   "metadata": {},
   "source": [
    "# 7. Решить задачу мультиклассовойклассификации и предсказать религию страны(religion)по деталям ее флага"
   ]
  },
  {
   "cell_type": "markdown",
   "metadata": {},
   "source": [
    "Т.к. в выборке дана информация по местонахождению страны, ее площади и т.д., из датасета я не стала убирать эти значения. Если нужно оставить только параметры флага, тогда убираются еще колонки с местонахождением страны, языком и т.д."
   ]
  },
  {
   "cell_type": "code",
   "execution_count": 10,
   "metadata": {},
   "outputs": [],
   "source": [
    "#подготовка данных, удаление столбцов, которые не относятся к флагам\n",
    "\n",
    "Y_prep = data['religion']\n",
    "X_prep = data.drop(['name', 'religion'], axis=1)\n",
    "\n",
    "cat_feat = ['mainhue', 'topleft', 'botright', 'landmass', 'zone', 'language']\n",
    "no_nun_feat = ['red', 'green', 'blue', 'gold', 'white', 'black', 'orange', 'triangle', 'icon', 'animate', 'text', 'topleft', 'crescent', 'area', 'population']\n",
    "num_feat = [f for f in X_prep if f not in (cat_feat + no_nun_feat)]"
   ]
  },
  {
   "cell_type": "code",
   "execution_count": 11,
   "metadata": {},
   "outputs": [],
   "source": [
    "# Поделим на train и тест (заранее, перед StandardScaler и т.д.), чтобы потом на тестовой выборке проверять качество моделей\n",
    "from sklearn.model_selection import train_test_split\n",
    "X_train, X_test, y_train, y_test = train_test_split(X_prep, Y_prep, test_size=0.2)"
   ]
  },
  {
   "cell_type": "code",
   "execution_count": 12,
   "metadata": {},
   "outputs": [],
   "source": [
    "# Создаем дамми-переменные для категорий\n",
    "\n",
    "dummy_train = pd.get_dummies(X_train[cat_feat], columns=cat_feat)\n",
    "dummy_test = pd.get_dummies(X_test[cat_feat], columns=cat_feat)\n",
    "\n",
    "dummy_cols = list(set(dummy_train) & set(dummy_test))\n",
    "\n",
    "dummy_train = dummy_train[dummy_cols]\n",
    "dummy_test = dummy_test[dummy_cols]"
   ]
  },
  {
   "cell_type": "code",
   "execution_count": 13,
   "metadata": {},
   "outputs": [
    {
     "name": "stderr",
     "output_type": "stream",
     "text": [
      "C:\\ProgramData\\Anaconda3\\lib\\site-packages\\sklearn\\preprocessing\\data.py:645: DataConversionWarning: Data with input dtype int64 were all converted to float64 by StandardScaler.\n",
      "  return self.partial_fit(X, y)\n",
      "C:\\ProgramData\\Anaconda3\\lib\\site-packages\\ipykernel_launcher.py:14: DataConversionWarning: Data with input dtype int64 were all converted to float64 by StandardScaler.\n",
      "  \n",
      "C:\\ProgramData\\Anaconda3\\lib\\site-packages\\ipykernel_launcher.py:15: DataConversionWarning: Data with input dtype int64 were all converted to float64 by StandardScaler.\n",
      "  from ipykernel import kernelapp as app\n"
     ]
    }
   ],
   "source": [
    "#Т.к. алгоритмы у нас все метрические, то масштабирование применим уже здесь\n",
    "#обучаю StandardScaler на тренировочной выборке, а применяю уже к тренировочной и к тестовой, \n",
    "# чтобы данные из тестовой выборки не \"просочились\" в обучающий процесс\n",
    "\n",
    "from sklearn.preprocessing import StandardScaler\n",
    "\n",
    "X_train_lin = pd.concat([X_train[num_feat], dummy_train], axis=1)\n",
    "\n",
    "X_test_lin = pd.concat([X_test[num_feat], dummy_test], axis=1)\n",
    "\n",
    "scaler = StandardScaler()\n",
    "scaler.fit(X_train_lin[num_feat])\n",
    "\n",
    "X_train_lin[num_feat] = scaler.transform(X_train_lin[num_feat])\n",
    "X_test_lin[num_feat] = scaler.transform(X_test_lin[num_feat])"
   ]
  },
  {
   "cell_type": "markdown",
   "metadata": {},
   "source": [
    "Логистическая регрессия"
   ]
  },
  {
   "cell_type": "code",
   "execution_count": 14,
   "metadata": {},
   "outputs": [],
   "source": [
    "#подбираю наилучшие параметры\n",
    "\n",
    "from sklearn.model_selection import GridSearchCV"
   ]
  },
  {
   "cell_type": "code",
   "execution_count": 15,
   "metadata": {},
   "outputs": [
    {
     "name": "stderr",
     "output_type": "stream",
     "text": [
      "C:\\ProgramData\\Anaconda3\\lib\\site-packages\\sklearn\\model_selection\\_search.py:841: DeprecationWarning: The default of the `iid` parameter will change from True to False in version 0.22 and will be removed in 0.24. This will change numeric results when test-set sizes are unequal.\n",
      "  DeprecationWarning)\n"
     ]
    },
    {
     "data": {
      "text/plain": [
       "GridSearchCV(cv=3, error_score='raise-deprecating',\n",
       "       estimator=LogisticRegression(C=1.0, class_weight=None, dual=False, fit_intercept=True,\n",
       "          intercept_scaling=1, max_iter=100, multi_class='warn',\n",
       "          n_jobs=None, penalty='l2', random_state=None, solver='warn',\n",
       "          tol=0.0001, verbose=0, warm_start=False),\n",
       "       fit_params=None, iid='warn', n_jobs=None,\n",
       "       param_grid={'penalty': ['l1', 'l2']}, pre_dispatch='2*n_jobs',\n",
       "       refit=True, return_train_score='warn', scoring=None, verbose=0)"
      ]
     },
     "execution_count": 15,
     "metadata": {},
     "output_type": "execute_result"
    }
   ],
   "source": [
    "from sklearn.linear_model import LogisticRegression\n",
    "param_grid = {'penalty': ['l1', 'l2']}\n",
    "\n",
    "grid_LG = GridSearchCV(LogisticRegression(), param_grid, cv=3)\n",
    "grid_LG.fit(X_train_lin, y_train)"
   ]
  },
  {
   "cell_type": "code",
   "execution_count": 16,
   "metadata": {},
   "outputs": [
    {
     "name": "stdout",
     "output_type": "stream",
     "text": [
      "{'penalty': 'l1'}\n",
      "0.6580645161290323\n",
      "LogisticRegression(C=1.0, class_weight=None, dual=False, fit_intercept=True,\n",
      "          intercept_scaling=1, max_iter=100, multi_class='warn',\n",
      "          n_jobs=None, penalty='l1', random_state=None, solver='warn',\n",
      "          tol=0.0001, verbose=0, warm_start=False)\n"
     ]
    }
   ],
   "source": [
    "#вывожу лучшие параметры для случайного леса, качество модели и саму модель\n",
    "\n",
    "print(grid_LG.best_params_)\n",
    "print(grid_LG.best_score_)\n",
    "print(grid_LG.best_estimator_)"
   ]
  },
  {
   "cell_type": "code",
   "execution_count": 17,
   "metadata": {},
   "outputs": [],
   "source": [
    "model_LG = grid_LG.best_estimator_"
   ]
  },
  {
   "cell_type": "markdown",
   "metadata": {},
   "source": [
    "Случайный лес"
   ]
  },
  {
   "cell_type": "code",
   "execution_count": 18,
   "metadata": {},
   "outputs": [],
   "source": [
    "from sklearn.ensemble import RandomForestClassifier"
   ]
  },
  {
   "cell_type": "code",
   "execution_count": 19,
   "metadata": {},
   "outputs": [],
   "source": [
    "k_range = list(range(10, 110, 10))\n",
    "param_grid = {'n_estimators': k_range, 'max_depth': [1, 3, 5, 7, 9, None]}"
   ]
  },
  {
   "cell_type": "code",
   "execution_count": 20,
   "metadata": {},
   "outputs": [
    {
     "name": "stderr",
     "output_type": "stream",
     "text": [
      "C:\\ProgramData\\Anaconda3\\lib\\site-packages\\sklearn\\model_selection\\_search.py:841: DeprecationWarning: The default of the `iid` parameter will change from True to False in version 0.22 and will be removed in 0.24. This will change numeric results when test-set sizes are unequal.\n",
      "  DeprecationWarning)\n"
     ]
    },
    {
     "data": {
      "text/plain": [
       "GridSearchCV(cv=3, error_score='raise-deprecating',\n",
       "       estimator=RandomForestClassifier(bootstrap=True, class_weight=None, criterion='gini',\n",
       "            max_depth=None, max_features='auto', max_leaf_nodes=None,\n",
       "            min_impurity_decrease=0.0, min_impurity_split=None,\n",
       "            min_samples_leaf=1, min_samples_split=2,\n",
       "            min_weight_fraction_leaf=0.0, n_estimators='warn', n_jobs=None,\n",
       "            oob_score=False, random_state=None, verbose=0,\n",
       "            warm_start=False),\n",
       "       fit_params=None, iid='warn', n_jobs=None,\n",
       "       param_grid={'n_estimators': [10, 20, 30, 40, 50, 60, 70, 80, 90, 100], 'max_depth': [1, 3, 5, 7, 9, None]},\n",
       "       pre_dispatch='2*n_jobs', refit=True, return_train_score='warn',\n",
       "       scoring=None, verbose=0)"
      ]
     },
     "execution_count": 20,
     "metadata": {},
     "output_type": "execute_result"
    }
   ],
   "source": [
    "grid_RF = GridSearchCV(RandomForestClassifier(), param_grid, cv=3)\n",
    "grid_RF.fit(X_train_lin, y_train)"
   ]
  },
  {
   "cell_type": "code",
   "execution_count": 21,
   "metadata": {},
   "outputs": [
    {
     "name": "stdout",
     "output_type": "stream",
     "text": [
      "{'max_depth': None, 'n_estimators': 40}\n",
      "0.7161290322580646\n",
      "RandomForestClassifier(bootstrap=True, class_weight=None, criterion='gini',\n",
      "            max_depth=None, max_features='auto', max_leaf_nodes=None,\n",
      "            min_impurity_decrease=0.0, min_impurity_split=None,\n",
      "            min_samples_leaf=1, min_samples_split=2,\n",
      "            min_weight_fraction_leaf=0.0, n_estimators=40, n_jobs=None,\n",
      "            oob_score=False, random_state=None, verbose=0,\n",
      "            warm_start=False)\n"
     ]
    }
   ],
   "source": [
    "#вывожу лучшие параметры для случайного леса, качество модели и саму модель\n",
    "\n",
    "print(grid_RF.best_params_)\n",
    "print(grid_RF.best_score_)\n",
    "print(grid_RF.best_estimator_)"
   ]
  },
  {
   "cell_type": "code",
   "execution_count": 22,
   "metadata": {},
   "outputs": [],
   "source": [
    "model_RF = grid_RF.best_estimator_"
   ]
  },
  {
   "cell_type": "markdown",
   "metadata": {},
   "source": [
    "Деревья решений"
   ]
  },
  {
   "cell_type": "code",
   "execution_count": 23,
   "metadata": {},
   "outputs": [],
   "source": [
    "#Тоже сначала подбираю лучшие параметры\n",
    "\n",
    "from sklearn.tree import DecisionTreeClassifier"
   ]
  },
  {
   "cell_type": "code",
   "execution_count": 24,
   "metadata": {},
   "outputs": [
    {
     "name": "stderr",
     "output_type": "stream",
     "text": [
      "C:\\ProgramData\\Anaconda3\\lib\\site-packages\\sklearn\\model_selection\\_search.py:841: DeprecationWarning: The default of the `iid` parameter will change from True to False in version 0.22 and will be removed in 0.24. This will change numeric results when test-set sizes are unequal.\n",
      "  DeprecationWarning)\n"
     ]
    },
    {
     "data": {
      "text/plain": [
       "GridSearchCV(cv=3, error_score='raise-deprecating',\n",
       "       estimator=DecisionTreeClassifier(class_weight=None, criterion='gini', max_depth=None,\n",
       "            max_features=None, max_leaf_nodes=None,\n",
       "            min_impurity_decrease=0.0, min_impurity_split=None,\n",
       "            min_samples_leaf=1, min_samples_split=2,\n",
       "            min_weight_fraction_leaf=0.0, presort=False, random_state=None,\n",
       "            splitter='best'),\n",
       "       fit_params=None, iid='warn', n_jobs=None,\n",
       "       param_grid={'max_depth': array([ 1,  2,  3,  4,  5,  6,  7,  8,  9, 10, 11, 12, 13, 14])},\n",
       "       pre_dispatch='2*n_jobs', refit=True, return_train_score='warn',\n",
       "       scoring='accuracy', verbose=0)"
      ]
     },
     "execution_count": 24,
     "metadata": {},
     "output_type": "execute_result"
    }
   ],
   "source": [
    "depths = np.arange(1,15)\n",
    "#features_num = np.arange(5,15)\n",
    "grid = {'max_depth': depths}#, 'max_features': features_num}\n",
    "grid_DT = GridSearchCV(DecisionTreeClassifier(), grid, scoring='accuracy', cv=3)\n",
    "grid_DT.fit(X_train_lin, y_train)"
   ]
  },
  {
   "cell_type": "code",
   "execution_count": 25,
   "metadata": {},
   "outputs": [
    {
     "name": "stdout",
     "output_type": "stream",
     "text": [
      "{'max_depth': 12}\n",
      "0.6709677419354839\n",
      "DecisionTreeClassifier(class_weight=None, criterion='gini', max_depth=12,\n",
      "            max_features=None, max_leaf_nodes=None,\n",
      "            min_impurity_decrease=0.0, min_impurity_split=None,\n",
      "            min_samples_leaf=1, min_samples_split=2,\n",
      "            min_weight_fraction_leaf=0.0, presort=False, random_state=None,\n",
      "            splitter='best')\n"
     ]
    }
   ],
   "source": [
    "#вывожу лучшие параметры для случайного леса, качество модели и саму модель\n",
    "\n",
    "print(grid_DT.best_params_)\n",
    "print(grid_DT.best_score_)\n",
    "print(grid_DT.best_estimator_)"
   ]
  },
  {
   "cell_type": "code",
   "execution_count": 26,
   "metadata": {},
   "outputs": [],
   "source": [
    "model_DT = grid_DT.best_estimator_"
   ]
  },
  {
   "cell_type": "markdown",
   "metadata": {},
   "source": [
    "Стекинг"
   ]
  },
  {
   "cell_type": "code",
   "execution_count": 27,
   "metadata": {},
   "outputs": [],
   "source": [
    "#реализую стекинг на основе 3х моделей\n",
    "\n",
    "def get_meta_features(clf, X_train, y_train, X_test, stack_cv):\n",
    "    meta_train = np.zeros_like(y_train, dtype=float)\n",
    "    meta_test = np.zeros_like(y_test, dtype=float)\n",
    "    \n",
    "    for i, (train_ind, test_ind) in enumerate(stack_cv.split(X_train, y_train)):\n",
    "        \n",
    "        clf.fit(X_train.iloc[train_ind], y_train.iloc[train_ind])\n",
    "        meta_train[test_ind] = clf.predict(X_train.iloc[test_ind])\n",
    "        meta_test += clf.predict(X_test)\n",
    "    \n",
    "    return meta_train, meta_test / stack_cv.n_splits"
   ]
  },
  {
   "cell_type": "code",
   "execution_count": 28,
   "metadata": {},
   "outputs": [
    {
     "name": "stdout",
     "output_type": "stream",
     "text": [
      "model_LG...\n",
      "model_RF...\n",
      "model_DT...\n"
     ]
    }
   ],
   "source": [
    "from sklearn.model_selection import StratifiedKFold\n",
    "\n",
    "stack_cv = StratifiedKFold(n_splits=3, random_state=555)\n",
    "\n",
    "meta_train = []\n",
    "meta_test = []\n",
    "col_names = []\n",
    "\n",
    "print('model_LG...')\n",
    "meta_tr, meta_te = get_meta_features(model_LG, X_train_lin, y_train, X_test_lin, stack_cv)\n",
    "\n",
    "meta_train.append(meta_tr)\n",
    "meta_test.append(meta_te)\n",
    "col_names.append('model_LG')\n",
    "\n",
    "print('model_RF...')\n",
    "meta_tr, meta_te = get_meta_features(model_RF, X_train_lin, y_train, X_test_lin, stack_cv)\n",
    "\n",
    "meta_train.append(meta_tr)\n",
    "meta_test.append(meta_te)\n",
    "col_names.append('model_RF')\n",
    "\n",
    "print('model_DT...')\n",
    "meta_tr, meta_te = get_meta_features(model_DT, X_train_lin, y_train, X_test_lin, stack_cv)\n",
    "\n",
    "meta_train.append(meta_tr)\n",
    "meta_test.append(meta_te)\n",
    "col_names.append('model_DT')"
   ]
  },
  {
   "cell_type": "code",
   "execution_count": 29,
   "metadata": {},
   "outputs": [],
   "source": [
    "X_meta_train = pd.DataFrame(np.stack(meta_train, axis=1), columns=col_names)\n",
    "X_meta_test = pd.DataFrame(np.stack(meta_test, axis=1), columns=col_names)"
   ]
  },
  {
   "cell_type": "code",
   "execution_count": 30,
   "metadata": {},
   "outputs": [
    {
     "data": {
      "text/plain": [
       "LogisticRegression(C=1, class_weight=None, dual=False, fit_intercept=True,\n",
       "          intercept_scaling=1, max_iter=100, multi_class='warn',\n",
       "          n_jobs=None, penalty='l2', random_state=None, solver='warn',\n",
       "          tol=0.0001, verbose=0, warm_start=False)"
      ]
     },
     "execution_count": 30,
     "metadata": {},
     "output_type": "execute_result"
    }
   ],
   "source": [
    "#Работа с мета-признаками\n",
    "\n",
    "reg_lr_meta = LogisticRegression(penalty='l2', C=1)\n",
    "reg_lr_meta.fit(X_meta_train, y_train)"
   ]
  },
  {
   "cell_type": "code",
   "execution_count": 31,
   "metadata": {},
   "outputs": [],
   "source": [
    "y_pred_meta_test=reg_lr_meta.predict(X_meta_test)"
   ]
  },
  {
   "cell_type": "markdown",
   "metadata": {},
   "source": [
    "# 8. Сделать кросс-валидациюданных с использованием подхода K-fold (n_folds=3)"
   ]
  },
  {
   "cell_type": "code",
   "execution_count": 32,
   "metadata": {},
   "outputs": [
    {
     "name": "stdout",
     "output_type": "stream",
     "text": [
      "0.6593551950694808\n",
      "0.6770064151016532\n",
      "0.6784212260402737\n",
      "0.5108339632149156\n"
     ]
    }
   ],
   "source": [
    "#Оцениваем качество модели при помощи кросс-валидации\n",
    "\n",
    "from sklearn.model_selection import cross_val_score\n",
    "scores_train_LG = cross_val_score(model_LG, X_train_lin, y_train, cv=3)\n",
    "scores_train_RF = cross_val_score(model_RF, X_train_lin, y_train, cv=3)\n",
    "scores_train_DT = cross_val_score(model_DT, X_train_lin, y_train, cv=3)\n",
    "scores_train_ALL = cross_val_score(reg_lr_meta, X_meta_train, y_train, cv=3)\n",
    "\n",
    "print(scores_train_LG.mean())\n",
    "print(scores_train_RF.mean())\n",
    "print(scores_train_DT.mean())\n",
    "print(scores_train_ALL.mean())"
   ]
  },
  {
   "cell_type": "markdown",
   "metadata": {},
   "source": [
    "# 9. РассчитатьFeature Importancesдля переменных модели"
   ]
  },
  {
   "cell_type": "code",
   "execution_count": 33,
   "metadata": {},
   "outputs": [
    {
     "data": {
      "text/plain": [
       "21    0.067815\n",
       "19    0.063477\n",
       "2     0.055785\n",
       "11    0.055359\n",
       "36    0.054819\n",
       "dtype: float64"
      ]
     },
     "execution_count": 33,
     "metadata": {},
     "output_type": "execute_result"
    }
   ],
   "source": [
    "#сразу оценю ажность признаков с помощью случайного леса\n",
    "\n",
    "imp = pd.Series(model_RF.feature_importances_)\n",
    "imp.sort_values(ascending=False)[:5]"
   ]
  },
  {
   "cell_type": "code",
   "execution_count": 34,
   "metadata": {},
   "outputs": [
    {
     "data": {
      "text/plain": [
       "<matplotlib.axes._subplots.AxesSubplot at 0x1e274548828>"
      ]
     },
     "execution_count": 34,
     "metadata": {},
     "output_type": "execute_result"
    },
    {
     "data": {
      "image/png": "[encoded data removed]",
      "text/plain": [
       "<Figure size 720x504 with 1 Axes>"
      ]
     },
     "metadata": {},
     "output_type": "display_data"
    }
   ],
   "source": [
    "#выведу топ-5 признаков на графике\n",
    "\n",
    "plt.figure(figsize=(10,7))\n",
    "columns = X_train_lin.columns\n",
    "predictors = [x for x in columns]\n",
    "(pd.Series(model_RF.feature_importances_, predictors).sort_values(ascending=False))[:5].plot(kind='barh')"
   ]
  },
  {
   "cell_type": "markdown",
   "metadata": {},
   "source": [
    "# 10. Проверить качество классификации с использованием следующих метрик: Accuracy, F1-Score, Precision, Recall"
   ]
  },
  {
   "cell_type": "code",
   "execution_count": 35,
   "metadata": {},
   "outputs": [],
   "source": [
    "from sklearn.metrics import accuracy_score, f1_score, precision_score, recall_score"
   ]
  },
  {
   "cell_type": "code",
   "execution_count": 36,
   "metadata": {},
   "outputs": [],
   "source": [
    "y_LG = model_LG.predict(X_test_lin)\n",
    "y_RF = model_RF.predict(X_test_lin)\n",
    "y_DT = model_DT.predict(X_test_lin)\n",
    "y_ALL = y_pred_meta_test"
   ]
  },
  {
   "cell_type": "code",
   "execution_count": 37,
   "metadata": {},
   "outputs": [
    {
     "name": "stdout",
     "output_type": "stream",
     "text": [
      "0.5897435897435898\n",
      "0.6153846153846154\n",
      "0.5384615384615384\n",
      "0.6153846153846154\n"
     ]
    }
   ],
   "source": [
    "print(accuracy_score(y_LG, y_test))\n",
    "print(accuracy_score(y_RF, y_test))\n",
    "print(accuracy_score(y_DT, y_test))\n",
    "print(accuracy_score(y_ALL, y_test))"
   ]
  },
  {
   "cell_type": "code",
   "execution_count": 38,
   "metadata": {},
   "outputs": [
    {
     "name": "stdout",
     "output_type": "stream",
     "text": [
      "0.6114447643859409\n",
      "0.6358252858252859\n",
      "0.5259475502359752\n",
      "0.7063492063492064\n"
     ]
    },
    {
     "name": "stderr",
     "output_type": "stream",
     "text": [
      "C:\\ProgramData\\Anaconda3\\lib\\site-packages\\sklearn\\metrics\\classification.py:1143: UndefinedMetricWarning: F-score is ill-defined and being set to 0.0 in labels with no predicted samples.\n",
      "  'precision', 'predicted', average, warn_for)\n",
      "C:\\ProgramData\\Anaconda3\\lib\\site-packages\\sklearn\\metrics\\classification.py:1145: UndefinedMetricWarning: F-score is ill-defined and being set to 0.0 in labels with no true samples.\n",
      "  'recall', 'true', average, warn_for)\n",
      "C:\\ProgramData\\Anaconda3\\lib\\site-packages\\sklearn\\metrics\\classification.py:1143: UndefinedMetricWarning: F-score is ill-defined and being set to 0.0 in labels with no predicted samples.\n",
      "  'precision', 'predicted', average, warn_for)\n",
      "C:\\ProgramData\\Anaconda3\\lib\\site-packages\\sklearn\\metrics\\classification.py:1145: UndefinedMetricWarning: F-score is ill-defined and being set to 0.0 in labels with no true samples.\n",
      "  'recall', 'true', average, warn_for)\n",
      "C:\\ProgramData\\Anaconda3\\lib\\site-packages\\sklearn\\metrics\\classification.py:1143: UndefinedMetricWarning: F-score is ill-defined and being set to 0.0 in labels with no predicted samples.\n",
      "  'precision', 'predicted', average, warn_for)\n",
      "C:\\ProgramData\\Anaconda3\\lib\\site-packages\\sklearn\\metrics\\classification.py:1145: UndefinedMetricWarning: F-score is ill-defined and being set to 0.0 in labels with no true samples.\n",
      "  'recall', 'true', average, warn_for)\n",
      "C:\\ProgramData\\Anaconda3\\lib\\site-packages\\sklearn\\metrics\\classification.py:1145: UndefinedMetricWarning: F-score is ill-defined and being set to 0.0 in labels with no true samples.\n",
      "  'recall', 'true', average, warn_for)\n"
     ]
    }
   ],
   "source": [
    "print(f1_score(y_LG, y_test, average='weighted'))\n",
    "print(f1_score(y_RF, y_test, average='weighted'))\n",
    "print(f1_score(y_DT, y_test, average='weighted'))\n",
    "print(f1_score(y_ALL, y_test, average='weighted'))"
   ]
  },
  {
   "cell_type": "code",
   "execution_count": 39,
   "metadata": {},
   "outputs": [
    {
     "name": "stdout",
     "output_type": "stream",
     "text": [
      "0.6669180492709905\n",
      "0.6946958270487682\n",
      "0.554927099044746\n",
      "0.8511814982403217\n"
     ]
    },
    {
     "name": "stderr",
     "output_type": "stream",
     "text": [
      "C:\\ProgramData\\Anaconda3\\lib\\site-packages\\sklearn\\metrics\\classification.py:1143: UndefinedMetricWarning: Precision is ill-defined and being set to 0.0 in labels with no predicted samples.\n",
      "  'precision', 'predicted', average, warn_for)\n",
      "C:\\ProgramData\\Anaconda3\\lib\\site-packages\\sklearn\\metrics\\classification.py:1143: UndefinedMetricWarning: Precision is ill-defined and being set to 0.0 in labels with no predicted samples.\n",
      "  'precision', 'predicted', average, warn_for)\n",
      "C:\\ProgramData\\Anaconda3\\lib\\site-packages\\sklearn\\metrics\\classification.py:1143: UndefinedMetricWarning: Precision is ill-defined and being set to 0.0 in labels with no predicted samples.\n",
      "  'precision', 'predicted', average, warn_for)\n"
     ]
    }
   ],
   "source": [
    "print(precision_score(y_LG, y_test, average='weighted'))\n",
    "print(precision_score(y_RF, y_test, average='weighted'))\n",
    "print(precision_score(y_DT, y_test, average='weighted'))\n",
    "print(precision_score(y_ALL, y_test, average='weighted'))"
   ]
  },
  {
   "cell_type": "code",
   "execution_count": 40,
   "metadata": {},
   "outputs": [
    {
     "name": "stdout",
     "output_type": "stream",
     "text": [
      "0.5897435897435898\n",
      "0.6153846153846154\n",
      "0.5384615384615384\n",
      "0.6153846153846154\n"
     ]
    },
    {
     "name": "stderr",
     "output_type": "stream",
     "text": [
      "C:\\ProgramData\\Anaconda3\\lib\\site-packages\\sklearn\\metrics\\classification.py:1145: UndefinedMetricWarning: Recall is ill-defined and being set to 0.0 in labels with no true samples.\n",
      "  'recall', 'true', average, warn_for)\n",
      "C:\\ProgramData\\Anaconda3\\lib\\site-packages\\sklearn\\metrics\\classification.py:1145: UndefinedMetricWarning: Recall is ill-defined and being set to 0.0 in labels with no true samples.\n",
      "  'recall', 'true', average, warn_for)\n",
      "C:\\ProgramData\\Anaconda3\\lib\\site-packages\\sklearn\\metrics\\classification.py:1145: UndefinedMetricWarning: Recall is ill-defined and being set to 0.0 in labels with no true samples.\n",
      "  'recall', 'true', average, warn_for)\n",
      "C:\\ProgramData\\Anaconda3\\lib\\site-packages\\sklearn\\metrics\\classification.py:1145: UndefinedMetricWarning: Recall is ill-defined and being set to 0.0 in labels with no true samples.\n",
      "  'recall', 'true', average, warn_for)\n"
     ]
    }
   ],
   "source": [
    "print(recall_score(y_LG, y_test, average='weighted'))\n",
    "print(recall_score(y_RF, y_test, average='weighted'))\n",
    "print(recall_score(y_DT, y_test, average='weighted'))\n",
    "print(recall_score(y_ALL, y_test, average='weighted'))"
   ]
  },
  {
   "cell_type": "markdown",
   "metadata": {},
   "source": [
    "# 11. Построить Confusion Matrix для ваших результатов"
   ]
  },
  {
   "cell_type": "code",
   "execution_count": 41,
   "metadata": {},
   "outputs": [
    {
     "data": {
      "text/plain": [
       "array([[ 5,  1,  0,  0,  0,  0,  0,  0],\n",
       "       [ 3, 14,  0,  0,  0,  0,  0,  0],\n",
       "       [ 0,  0,  3,  2,  0,  1,  0,  0],\n",
       "       [ 0,  0,  0,  0,  0,  0,  0,  0],\n",
       "       [ 0,  1,  1,  0,  0,  0,  0,  0],\n",
       "       [ 0,  0,  2,  0,  0,  1,  0,  0],\n",
       "       [ 3,  0,  0,  1,  0,  0,  0,  0],\n",
       "       [ 0,  0,  0,  1,  0,  0,  0,  0]], dtype=int64)"
      ]
     },
     "execution_count": 41,
     "metadata": {},
     "output_type": "execute_result"
    }
   ],
   "source": [
    "from sklearn.metrics import confusion_matrix\n",
    "\n",
    "confusion_matrix(y_test, y_LG)"
   ]
  },
  {
   "cell_type": "code",
   "execution_count": null,
   "metadata": {},
   "outputs": [],
   "source": []
  }
 ],
 "metadata": {
  "kernelspec": {
   "display_name": "Python 3",
   "language": "python",
   "name": "python3"
  },
  "language_info": {
   "codemirror_mode": {
    "name": "ipython",
    "version": 3
   },
   "file_extension": ".py",
   "mimetype": "text/x-python",
   "name": "python",
   "nbconvert_exporter": "python",
   "pygments_lexer": "ipython3",
   "version": "3.7.3"
  }
 },
 "nbformat": 4,
 "nbformat_minor": 2
}
