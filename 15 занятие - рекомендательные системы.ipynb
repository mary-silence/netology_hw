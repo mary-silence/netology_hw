{
 "cells": [
  {
   "cell_type": "code",
   "execution_count": 1,
   "metadata": {},
   "outputs": [],
   "source": [
    "import pandas as pd\n",
    "import numpy as np\n",
    "import matplotlib.pyplot as plt"
   ]
  },
  {
   "cell_type": "code",
   "execution_count": 2,
   "metadata": {},
   "outputs": [],
   "source": [
    "links = pd.read_csv('/Users/mamolchanova/Documents/Обучение/ML/15 Занятие - рекомендательные системы/links.csv')\n",
    "movies = pd.read_csv('/Users/mamolchanova/Documents/Обучение/ML/15 Занятие - рекомендательные системы/movies.csv')\n",
    "ratings = pd.read_csv('/Users/mamolchanova/Documents/Обучение/ML/15 Занятие - рекомендательные системы/ratings.csv')\n",
    "tags = pd.read_csv('/Users/mamolchanova/Documents/Обучение/ML/15 Занятие - рекомендательные системы/tags.csv')"
   ]
  },
  {
   "cell_type": "code",
   "execution_count": 3,
   "metadata": {},
   "outputs": [],
   "source": [
    "# соединим таблицу с рейтингами и названиями фильмов\n",
    "joined_ratings = ratings.join(movies.set_index('movieId'), on='movieId')"
   ]
  },
  {
   "cell_type": "code",
   "execution_count": 4,
   "metadata": {},
   "outputs": [
    {
     "data": {
      "text/html": [
       "<div>\n",
       "<style scoped>\n",
       "    .dataframe tbody tr th:only-of-type {\n",
       "        vertical-align: middle;\n",
       "    }\n",
       "\n",
       "    .dataframe tbody tr th {\n",
       "        vertical-align: top;\n",
       "    }\n",
       "\n",
       "    .dataframe thead th {\n",
       "        text-align: right;\n",
       "    }\n",
       "</style>\n",
       "<table border=\"1\" class=\"dataframe\">\n",
       "  <thead>\n",
       "    <tr style=\"text-align: right;\">\n",
       "      <th></th>\n",
       "      <th>userId</th>\n",
       "      <th>movieId</th>\n",
       "      <th>rating</th>\n",
       "      <th>timestamp</th>\n",
       "      <th>title</th>\n",
       "      <th>genres</th>\n",
       "    </tr>\n",
       "  </thead>\n",
       "  <tbody>\n",
       "    <tr>\n",
       "      <th>0</th>\n",
       "      <td>1</td>\n",
       "      <td>1</td>\n",
       "      <td>4.0</td>\n",
       "      <td>964982703</td>\n",
       "      <td>Toy Story (1995)</td>\n",
       "      <td>Adventure|Animation|Children|Comedy|Fantasy</td>\n",
       "    </tr>\n",
       "    <tr>\n",
       "      <th>1</th>\n",
       "      <td>1</td>\n",
       "      <td>3</td>\n",
       "      <td>4.0</td>\n",
       "      <td>964981247</td>\n",
       "      <td>Grumpier Old Men (1995)</td>\n",
       "      <td>Comedy|Romance</td>\n",
       "    </tr>\n",
       "    <tr>\n",
       "      <th>2</th>\n",
       "      <td>1</td>\n",
       "      <td>6</td>\n",
       "      <td>4.0</td>\n",
       "      <td>964982224</td>\n",
       "      <td>Heat (1995)</td>\n",
       "      <td>Action|Crime|Thriller</td>\n",
       "    </tr>\n",
       "    <tr>\n",
       "      <th>3</th>\n",
       "      <td>1</td>\n",
       "      <td>47</td>\n",
       "      <td>5.0</td>\n",
       "      <td>964983815</td>\n",
       "      <td>Seven (a.k.a. Se7en) (1995)</td>\n",
       "      <td>Mystery|Thriller</td>\n",
       "    </tr>\n",
       "    <tr>\n",
       "      <th>4</th>\n",
       "      <td>1</td>\n",
       "      <td>50</td>\n",
       "      <td>5.0</td>\n",
       "      <td>964982931</td>\n",
       "      <td>Usual Suspects, The (1995)</td>\n",
       "      <td>Crime|Mystery|Thriller</td>\n",
       "    </tr>\n",
       "  </tbody>\n",
       "</table>\n",
       "</div>"
      ],
      "text/plain": [
       "   userId  movieId  rating  timestamp                        title  \\\n",
       "0       1        1     4.0  964982703             Toy Story (1995)   \n",
       "1       1        3     4.0  964981247      Grumpier Old Men (1995)   \n",
       "2       1        6     4.0  964982224                  Heat (1995)   \n",
       "3       1       47     5.0  964983815  Seven (a.k.a. Se7en) (1995)   \n",
       "4       1       50     5.0  964982931   Usual Suspects, The (1995)   \n",
       "\n",
       "                                        genres  \n",
       "0  Adventure|Animation|Children|Comedy|Fantasy  \n",
       "1                               Comedy|Romance  \n",
       "2                        Action|Crime|Thriller  \n",
       "3                             Mystery|Thriller  \n",
       "4                       Crime|Mystery|Thriller  "
      ]
     },
     "execution_count": 4,
     "metadata": {},
     "output_type": "execute_result"
    }
   ],
   "source": [
    "joined_ratings.head()"
   ]
  },
  {
   "cell_type": "markdown",
   "metadata": {},
   "source": [
    "# Составление рейтинга для жанра Action"
   ]
  },
  {
   "cell_type": "code",
   "execution_count": 5,
   "metadata": {},
   "outputs": [
    {
     "data": {
      "text/html": [
       "<div>\n",
       "<style scoped>\n",
       "    .dataframe tbody tr th:only-of-type {\n",
       "        vertical-align: middle;\n",
       "    }\n",
       "\n",
       "    .dataframe tbody tr th {\n",
       "        vertical-align: top;\n",
       "    }\n",
       "\n",
       "    .dataframe thead th {\n",
       "        text-align: right;\n",
       "    }\n",
       "</style>\n",
       "<table border=\"1\" class=\"dataframe\">\n",
       "  <thead>\n",
       "    <tr style=\"text-align: right;\">\n",
       "      <th></th>\n",
       "      <th>userId</th>\n",
       "      <th>movieId</th>\n",
       "      <th>rating</th>\n",
       "      <th>timestamp</th>\n",
       "      <th>title</th>\n",
       "      <th>genres</th>\n",
       "    </tr>\n",
       "  </thead>\n",
       "  <tbody>\n",
       "    <tr>\n",
       "      <th>2</th>\n",
       "      <td>1</td>\n",
       "      <td>6</td>\n",
       "      <td>4.0</td>\n",
       "      <td>964982224</td>\n",
       "      <td>Heat (1995)</td>\n",
       "      <td>Action|Crime|Thriller</td>\n",
       "    </tr>\n",
       "    <tr>\n",
       "      <th>5</th>\n",
       "      <td>1</td>\n",
       "      <td>70</td>\n",
       "      <td>3.0</td>\n",
       "      <td>964982400</td>\n",
       "      <td>From Dusk Till Dawn (1996)</td>\n",
       "      <td>Action|Comedy|Horror|Thriller</td>\n",
       "    </tr>\n",
       "    <tr>\n",
       "      <th>7</th>\n",
       "      <td>1</td>\n",
       "      <td>110</td>\n",
       "      <td>4.0</td>\n",
       "      <td>964982176</td>\n",
       "      <td>Braveheart (1995)</td>\n",
       "      <td>Action|Drama|War</td>\n",
       "    </tr>\n",
       "    <tr>\n",
       "      <th>8</th>\n",
       "      <td>1</td>\n",
       "      <td>151</td>\n",
       "      <td>5.0</td>\n",
       "      <td>964984041</td>\n",
       "      <td>Rob Roy (1995)</td>\n",
       "      <td>Action|Drama|Romance|War</td>\n",
       "    </tr>\n",
       "    <tr>\n",
       "      <th>10</th>\n",
       "      <td>1</td>\n",
       "      <td>163</td>\n",
       "      <td>5.0</td>\n",
       "      <td>964983650</td>\n",
       "      <td>Desperado (1995)</td>\n",
       "      <td>Action|Romance|Western</td>\n",
       "    </tr>\n",
       "  </tbody>\n",
       "</table>\n",
       "</div>"
      ],
      "text/plain": [
       "    userId  movieId  rating  timestamp                       title  \\\n",
       "2        1        6     4.0  964982224                 Heat (1995)   \n",
       "5        1       70     3.0  964982400  From Dusk Till Dawn (1996)   \n",
       "7        1      110     4.0  964982176           Braveheart (1995)   \n",
       "8        1      151     5.0  964984041              Rob Roy (1995)   \n",
       "10       1      163     5.0  964983650            Desperado (1995)   \n",
       "\n",
       "                           genres  \n",
       "2           Action|Crime|Thriller  \n",
       "5   Action|Comedy|Horror|Thriller  \n",
       "7                Action|Drama|War  \n",
       "8        Action|Drama|Romance|War  \n",
       "10         Action|Romance|Western  "
      ]
     },
     "execution_count": 5,
     "metadata": {},
     "output_type": "execute_result"
    }
   ],
   "source": [
    "df=joined_ratings[joined_ratings['genres'].str.contains('Action')]\n",
    "df.head()"
   ]
  },
  {
   "cell_type": "markdown",
   "metadata": {},
   "source": [
    "Т.к. нам в будущем нужно будет одни и те же операции применять к двум жанрам, оформлю всё сразу в виде функций.\n",
    "Мне стало интересно составить 3 популярных вида рейтинга и посмотреть, насколько похожие они выдают результаты. Я использвала рейтинг, рассмотренный на занятии, рейтинг для кинопоиска и рейтинг на основе метода взвешенной суммы критериев."
   ]
  },
  {
   "cell_type": "code",
   "execution_count": 6,
   "metadata": {},
   "outputs": [],
   "source": [
    "# т.к. я буду работать только с 2мя показателями, переведу таблицу в удобный вид\n",
    "def score_summerize(df):\n",
    "    groupby_df = df.groupby(\"title\")\n",
    "    df_grouped=groupby_df.agg({\"rating\": \"mean\", \"title\": \"count\"}).rename({'title': 'count', 'rating': 'score'}, axis=1)\n",
    "    return df_grouped"
   ]
  },
  {
   "cell_type": "code",
   "execution_count": 7,
   "metadata": {},
   "outputs": [],
   "source": [
    "df_grouped=score_summerize(df)"
   ]
  },
  {
   "cell_type": "code",
   "execution_count": 8,
   "metadata": {},
   "outputs": [
    {
     "data": {
      "text/html": [
       "<div>\n",
       "<style scoped>\n",
       "    .dataframe tbody tr th:only-of-type {\n",
       "        vertical-align: middle;\n",
       "    }\n",
       "\n",
       "    .dataframe tbody tr th {\n",
       "        vertical-align: top;\n",
       "    }\n",
       "\n",
       "    .dataframe thead th {\n",
       "        text-align: right;\n",
       "    }\n",
       "</style>\n",
       "<table border=\"1\" class=\"dataframe\">\n",
       "  <thead>\n",
       "    <tr style=\"text-align: right;\">\n",
       "      <th></th>\n",
       "      <th>score</th>\n",
       "      <th>count</th>\n",
       "    </tr>\n",
       "    <tr>\n",
       "      <th>title</th>\n",
       "      <th></th>\n",
       "      <th></th>\n",
       "    </tr>\n",
       "  </thead>\n",
       "  <tbody>\n",
       "    <tr>\n",
       "      <th>'71 (2014)</th>\n",
       "      <td>4.0</td>\n",
       "      <td>1</td>\n",
       "    </tr>\n",
       "    <tr>\n",
       "      <th>'Hellboy': The Seeds of Creation (2004)</th>\n",
       "      <td>4.0</td>\n",
       "      <td>1</td>\n",
       "    </tr>\n",
       "    <tr>\n",
       "      <th>10th Victim, The (La decima vittima) (1965)</th>\n",
       "      <td>4.0</td>\n",
       "      <td>1</td>\n",
       "    </tr>\n",
       "    <tr>\n",
       "      <th>12 Rounds (2009)</th>\n",
       "      <td>3.0</td>\n",
       "      <td>3</td>\n",
       "    </tr>\n",
       "    <tr>\n",
       "      <th>13 Assassins (Jûsan-nin no shikaku) (2010)</th>\n",
       "      <td>4.0</td>\n",
       "      <td>4</td>\n",
       "    </tr>\n",
       "  </tbody>\n",
       "</table>\n",
       "</div>"
      ],
      "text/plain": [
       "                                             score  count\n",
       "title                                                    \n",
       "'71 (2014)                                     4.0      1\n",
       "'Hellboy': The Seeds of Creation (2004)        4.0      1\n",
       "10th Victim, The (La decima vittima) (1965)    4.0      1\n",
       "12 Rounds (2009)                               3.0      3\n",
       "13 Assassins (Jûsan-nin no shikaku) (2010)     4.0      4"
      ]
     },
     "execution_count": 8,
     "metadata": {},
     "output_type": "execute_result"
    }
   ],
   "source": [
    "df_grouped.head()"
   ]
  },
  {
   "cell_type": "code",
   "execution_count": 9,
   "metadata": {},
   "outputs": [],
   "source": [
    "# рассчитаю все нужные для работы показатели\n",
    "# для кинопоиска нужен порог голосов, необходимых для участия в рейтинге. В качестве порога я взяла третью квартиль\n",
    "\n",
    "def calc_key_indicators(df):\n",
    "    key_indicators={\n",
    "        \"count_quantile_75\": df['count'].quantile(.75),\n",
    "        \"df_score_mean\": df['score'].mean(),\n",
    "        \"df_score_max\": df['score'].max(),\n",
    "        \"df_count_max\": df['count'].max(),\n",
    "        \"df_count_mean\": df['count'].mean(),\n",
    "        \"df_count_min\": df['count'].min()\n",
    "    }\n",
    "    return key_indicators"
   ]
  },
  {
   "cell_type": "code",
   "execution_count": 10,
   "metadata": {},
   "outputs": [],
   "source": [
    "df_ki=calc_key_indicators(df_grouped)"
   ]
  },
  {
   "cell_type": "code",
   "execution_count": 11,
   "metadata": {},
   "outputs": [
    {
     "data": {
      "text/plain": [
       "{'count_quantile_75': 18.0,\n",
       " 'df_score_mean': 3.0945470147228393,\n",
       " 'df_score_max': 5.0,\n",
       " 'df_count_max': 278,\n",
       " 'df_count_mean': 16.76792556102901,\n",
       " 'df_count_min': 1}"
      ]
     },
     "execution_count": 11,
     "metadata": {},
     "output_type": "execute_result"
    }
   ],
   "source": [
    "df_ki"
   ]
  },
  {
   "cell_type": "code",
   "execution_count": 12,
   "metadata": {},
   "outputs": [],
   "source": [
    "def calc_rating_kinopoisk(df):\n",
    "    df['rating_kinopoisk']=df['count']/(df['count']+df_ki['count_quantile_75'])*df['score']+df_ki['count_quantile_75']/(df['count']+df_ki['count_quantile_75'])*df_ki['df_score_mean']\n",
    "    return df"
   ]
  },
  {
   "cell_type": "code",
   "execution_count": 13,
   "metadata": {},
   "outputs": [],
   "source": [
    "df_grouped=calc_rating_kinopoisk(df_grouped)"
   ]
  },
  {
   "cell_type": "code",
   "execution_count": 14,
   "metadata": {},
   "outputs": [],
   "source": [
    "def calc_rating_mvsk(df):\n",
    "    df['rating_mvsk']=0.45*df['score']/df_ki['df_score_max']+0.55*df['count']/df_ki['df_count_max']\n",
    "    return df"
   ]
  },
  {
   "cell_type": "code",
   "execution_count": 15,
   "metadata": {},
   "outputs": [],
   "source": [
    "df_grouped=calc_rating_mvsk(df_grouped)"
   ]
  },
  {
   "cell_type": "code",
   "execution_count": 16,
   "metadata": {},
   "outputs": [],
   "source": [
    "def calc_rating_default(df):\n",
    "    df['rating_default']=df['score']*(df['count']-df_ki['df_count_mean'])/(df_ki['df_count_max']-df_ki['df_count_min'])\n",
    "    return df"
   ]
  },
  {
   "cell_type": "code",
   "execution_count": 17,
   "metadata": {},
   "outputs": [],
   "source": [
    "df_grouped=calc_rating_default(df_grouped)"
   ]
  },
  {
   "cell_type": "code",
   "execution_count": 18,
   "metadata": {},
   "outputs": [],
   "source": [
    "def calc_ranks(df):\n",
    "    df[\"rank_kinopoisk\"] = df[\"rating_kinopoisk\"].rank(ascending=False)\n",
    "    df[\"rank_mvsk\"] = df[\"rating_mvsk\"].rank(ascending=False)\n",
    "    df[\"rank_default\"] = df[\"rating_default\"].rank(ascending=False)\n",
    "    return df"
   ]
  },
  {
   "cell_type": "code",
   "execution_count": 19,
   "metadata": {},
   "outputs": [],
   "source": [
    "df_grouped=calc_ranks(df_grouped)"
   ]
  },
  {
   "cell_type": "code",
   "execution_count": 20,
   "metadata": {},
   "outputs": [
    {
     "data": {
      "text/html": [
       "<div>\n",
       "<style scoped>\n",
       "    .dataframe tbody tr th:only-of-type {\n",
       "        vertical-align: middle;\n",
       "    }\n",
       "\n",
       "    .dataframe tbody tr th {\n",
       "        vertical-align: top;\n",
       "    }\n",
       "\n",
       "    .dataframe thead th {\n",
       "        text-align: right;\n",
       "    }\n",
       "</style>\n",
       "<table border=\"1\" class=\"dataframe\">\n",
       "  <thead>\n",
       "    <tr style=\"text-align: right;\">\n",
       "      <th></th>\n",
       "      <th>score</th>\n",
       "      <th>count</th>\n",
       "      <th>rating_kinopoisk</th>\n",
       "      <th>rating_mvsk</th>\n",
       "      <th>rating_default</th>\n",
       "      <th>rank_kinopoisk</th>\n",
       "      <th>rank_mvsk</th>\n",
       "      <th>rank_default</th>\n",
       "    </tr>\n",
       "    <tr>\n",
       "      <th>title</th>\n",
       "      <th></th>\n",
       "      <th></th>\n",
       "      <th></th>\n",
       "      <th></th>\n",
       "      <th></th>\n",
       "      <th></th>\n",
       "      <th></th>\n",
       "      <th></th>\n",
       "    </tr>\n",
       "  </thead>\n",
       "  <tbody>\n",
       "    <tr>\n",
       "      <th>Matrix, The (1999)</th>\n",
       "      <td>4.192446</td>\n",
       "      <td>278</td>\n",
       "      <td>4.125682</td>\n",
       "      <td>0.927320</td>\n",
       "      <td>3.953796</td>\n",
       "      <td>4.0</td>\n",
       "      <td>1.0</td>\n",
       "      <td>1.0</td>\n",
       "    </tr>\n",
       "    <tr>\n",
       "      <th>Star Wars: Episode IV - A New Hope (1977)</th>\n",
       "      <td>4.231076</td>\n",
       "      <td>251</td>\n",
       "      <td>4.155025</td>\n",
       "      <td>0.877380</td>\n",
       "      <td>3.577811</td>\n",
       "      <td>2.0</td>\n",
       "      <td>2.0</td>\n",
       "      <td>2.0</td>\n",
       "    </tr>\n",
       "    <tr>\n",
       "      <th>Braveheart (1995)</th>\n",
       "      <td>4.031646</td>\n",
       "      <td>237</td>\n",
       "      <td>3.965497</td>\n",
       "      <td>0.831733</td>\n",
       "      <td>3.205407</td>\n",
       "      <td>13.0</td>\n",
       "      <td>3.0</td>\n",
       "      <td>3.0</td>\n",
       "    </tr>\n",
       "    <tr>\n",
       "      <th>Fight Club (1999)</th>\n",
       "      <td>4.272936</td>\n",
       "      <td>218</td>\n",
       "      <td>4.183059</td>\n",
       "      <td>0.815859</td>\n",
       "      <td>3.104158</td>\n",
       "      <td>1.0</td>\n",
       "      <td>4.0</td>\n",
       "      <td>4.0</td>\n",
       "    </tr>\n",
       "    <tr>\n",
       "      <th>Jurassic Park (1993)</th>\n",
       "      <td>3.750000</td>\n",
       "      <td>238</td>\n",
       "      <td>3.703913</td>\n",
       "      <td>0.808363</td>\n",
       "      <td>2.995019</td>\n",
       "      <td>69.0</td>\n",
       "      <td>5.0</td>\n",
       "      <td>5.0</td>\n",
       "    </tr>\n",
       "    <tr>\n",
       "      <th>Terminator 2: Judgment Day (1991)</th>\n",
       "      <td>3.970982</td>\n",
       "      <td>224</td>\n",
       "      <td>3.905793</td>\n",
       "      <td>0.800554</td>\n",
       "      <td>2.970812</td>\n",
       "      <td>21.0</td>\n",
       "      <td>6.0</td>\n",
       "      <td>6.0</td>\n",
       "    </tr>\n",
       "    <tr>\n",
       "      <th>Star Wars: Episode V - The Empire Strikes Back (1980)</th>\n",
       "      <td>4.215640</td>\n",
       "      <td>211</td>\n",
       "      <td>4.127519</td>\n",
       "      <td>0.796854</td>\n",
       "      <td>2.956002</td>\n",
       "      <td>3.0</td>\n",
       "      <td>7.0</td>\n",
       "      <td>7.0</td>\n",
       "    </tr>\n",
       "    <tr>\n",
       "      <th>Raiders of the Lost Ark (Indiana Jones and the Raiders of the Lost Ark) (1981)</th>\n",
       "      <td>4.207500</td>\n",
       "      <td>200</td>\n",
       "      <td>4.115605</td>\n",
       "      <td>0.774358</td>\n",
       "      <td>2.783209</td>\n",
       "      <td>5.0</td>\n",
       "      <td>8.0</td>\n",
       "      <td>8.0</td>\n",
       "    </tr>\n",
       "    <tr>\n",
       "      <th>Star Wars: Episode VI - Return of the Jedi (1983)</th>\n",
       "      <td>4.137755</td>\n",
       "      <td>196</td>\n",
       "      <td>4.050009</td>\n",
       "      <td>0.760168</td>\n",
       "      <td>2.677323</td>\n",
       "      <td>10.0</td>\n",
       "      <td>9.0</td>\n",
       "      <td>9.0</td>\n",
       "    </tr>\n",
       "    <tr>\n",
       "      <th>Saving Private Ryan (1998)</th>\n",
       "      <td>4.146277</td>\n",
       "      <td>188</td>\n",
       "      <td>4.054378</td>\n",
       "      <td>0.745107</td>\n",
       "      <td>2.563089</td>\n",
       "      <td>9.0</td>\n",
       "      <td>10.0</td>\n",
       "      <td>10.0</td>\n",
       "    </tr>\n",
       "  </tbody>\n",
       "</table>\n",
       "</div>"
      ],
      "text/plain": [
       "                                                       score  count  \\\n",
       "title                                                                 \n",
       "Matrix, The (1999)                                  4.192446    278   \n",
       "Star Wars: Episode IV - A New Hope (1977)           4.231076    251   \n",
       "Braveheart (1995)                                   4.031646    237   \n",
       "Fight Club (1999)                                   4.272936    218   \n",
       "Jurassic Park (1993)                                3.750000    238   \n",
       "Terminator 2: Judgment Day (1991)                   3.970982    224   \n",
       "Star Wars: Episode V - The Empire Strikes Back ...  4.215640    211   \n",
       "Raiders of the Lost Ark (Indiana Jones and the ...  4.207500    200   \n",
       "Star Wars: Episode VI - Return of the Jedi (1983)   4.137755    196   \n",
       "Saving Private Ryan (1998)                          4.146277    188   \n",
       "\n",
       "                                                    rating_kinopoisk  \\\n",
       "title                                                                  \n",
       "Matrix, The (1999)                                          4.125682   \n",
       "Star Wars: Episode IV - A New Hope (1977)                   4.155025   \n",
       "Braveheart (1995)                                           3.965497   \n",
       "Fight Club (1999)                                           4.183059   \n",
       "Jurassic Park (1993)                                        3.703913   \n",
       "Terminator 2: Judgment Day (1991)                           3.905793   \n",
       "Star Wars: Episode V - The Empire Strikes Back ...          4.127519   \n",
       "Raiders of the Lost Ark (Indiana Jones and the ...          4.115605   \n",
       "Star Wars: Episode VI - Return of the Jedi (1983)           4.050009   \n",
       "Saving Private Ryan (1998)                                  4.054378   \n",
       "\n",
       "                                                    rating_mvsk  \\\n",
       "title                                                             \n",
       "Matrix, The (1999)                                     0.927320   \n",
       "Star Wars: Episode IV - A New Hope (1977)              0.877380   \n",
       "Braveheart (1995)                                      0.831733   \n",
       "Fight Club (1999)                                      0.815859   \n",
       "Jurassic Park (1993)                                   0.808363   \n",
       "Terminator 2: Judgment Day (1991)                      0.800554   \n",
       "Star Wars: Episode V - The Empire Strikes Back ...     0.796854   \n",
       "Raiders of the Lost Ark (Indiana Jones and the ...     0.774358   \n",
       "Star Wars: Episode VI - Return of the Jedi (1983)      0.760168   \n",
       "Saving Private Ryan (1998)                             0.745107   \n",
       "\n",
       "                                                    rating_default  \\\n",
       "title                                                                \n",
       "Matrix, The (1999)                                        3.953796   \n",
       "Star Wars: Episode IV - A New Hope (1977)                 3.577811   \n",
       "Braveheart (1995)                                         3.205407   \n",
       "Fight Club (1999)                                         3.104158   \n",
       "Jurassic Park (1993)                                      2.995019   \n",
       "Terminator 2: Judgment Day (1991)                         2.970812   \n",
       "Star Wars: Episode V - The Empire Strikes Back ...        2.956002   \n",
       "Raiders of the Lost Ark (Indiana Jones and the ...        2.783209   \n",
       "Star Wars: Episode VI - Return of the Jedi (1983)         2.677323   \n",
       "Saving Private Ryan (1998)                                2.563089   \n",
       "\n",
       "                                                    rank_kinopoisk  rank_mvsk  \\\n",
       "title                                                                           \n",
       "Matrix, The (1999)                                             4.0        1.0   \n",
       "Star Wars: Episode IV - A New Hope (1977)                      2.0        2.0   \n",
       "Braveheart (1995)                                             13.0        3.0   \n",
       "Fight Club (1999)                                              1.0        4.0   \n",
       "Jurassic Park (1993)                                          69.0        5.0   \n",
       "Terminator 2: Judgment Day (1991)                             21.0        6.0   \n",
       "Star Wars: Episode V - The Empire Strikes Back ...             3.0        7.0   \n",
       "Raiders of the Lost Ark (Indiana Jones and the ...             5.0        8.0   \n",
       "Star Wars: Episode VI - Return of the Jedi (1983)             10.0        9.0   \n",
       "Saving Private Ryan (1998)                                     9.0       10.0   \n",
       "\n",
       "                                                    rank_default  \n",
       "title                                                             \n",
       "Matrix, The (1999)                                           1.0  \n",
       "Star Wars: Episode IV - A New Hope (1977)                    2.0  \n",
       "Braveheart (1995)                                            3.0  \n",
       "Fight Club (1999)                                            4.0  \n",
       "Jurassic Park (1993)                                         5.0  \n",
       "Terminator 2: Judgment Day (1991)                            6.0  \n",
       "Star Wars: Episode V - The Empire Strikes Back ...           7.0  \n",
       "Raiders of the Lost Ark (Indiana Jones and the ...           8.0  \n",
       "Star Wars: Episode VI - Return of the Jedi (1983)            9.0  \n",
       "Saving Private Ryan (1998)                                  10.0  "
      ]
     },
     "execution_count": 20,
     "metadata": {},
     "output_type": "execute_result"
    }
   ],
   "source": [
    "#теперь можем вывести фильмы по любому рейтингу. Например, по тому, который использовался на занятии\n",
    "\n",
    "df_grouped.sort_values(by=\"rating_default\", inplace=True, ascending=False)\n",
    "df_grouped.head(10)"
   ]
  },
  {
   "cell_type": "markdown",
   "metadata": {},
   "source": [
    "Дополнительно можно изучить насколько сильно отличаются рейтинги"
   ]
  },
  {
   "cell_type": "code",
   "execution_count": 21,
   "metadata": {},
   "outputs": [],
   "source": [
    "def calc_rank_difference(df):\n",
    "    df['rank_diff_km']=abs(df['rank_kinopoisk']-df['rank_mvsk'])\n",
    "    df['rank_diff_kd']=abs(df['rank_kinopoisk']-df['rank_default'])\n",
    "    df['rank_diff_md']=abs(df['rank_mvsk']-df['rank_default'])\n",
    "    return df"
   ]
  },
  {
   "cell_type": "code",
   "execution_count": 22,
   "metadata": {},
   "outputs": [],
   "source": [
    "df_grouped=calc_rank_difference(df_grouped)"
   ]
  },
  {
   "cell_type": "code",
   "execution_count": 23,
   "metadata": {},
   "outputs": [
    {
     "data": {
      "text/plain": [
       "<matplotlib.axes._subplots.AxesSubplot at 0x11f32f208>"
      ]
     },
     "execution_count": 23,
     "metadata": {},
     "output_type": "execute_result"
    },
    {
     "data": {
      "image/png": "[encoded data removed]",
      "text/plain": [
       "<Figure size 432x288 with 1 Axes>"
      ]
     },
     "metadata": {
      "needs_background": "light"
     },
     "output_type": "display_data"
    }
   ],
   "source": [
    "df_grouped.loc[df_grouped['rank_kinopoisk'] <= 50][\"rank_diff_km\"].hist()"
   ]
  },
  {
   "cell_type": "code",
   "execution_count": 24,
   "metadata": {},
   "outputs": [
    {
     "data": {
      "text/plain": [
       "28.44"
      ]
     },
     "execution_count": 24,
     "metadata": {},
     "output_type": "execute_result"
    }
   ],
   "source": [
    "df_grouped.loc[df_grouped['rank_kinopoisk'] <= 50][\"rank_diff_km\"].mean()"
   ]
  },
  {
   "cell_type": "markdown",
   "metadata": {},
   "source": [
    "Отличие между рейтингом для кинопоиска и МВСК существенное"
   ]
  },
  {
   "cell_type": "code",
   "execution_count": 25,
   "metadata": {},
   "outputs": [
    {
     "data": {
      "text/plain": [
       "<matplotlib.axes._subplots.AxesSubplot at 0x11f50d518>"
      ]
     },
     "execution_count": 25,
     "metadata": {},
     "output_type": "execute_result"
    },
    {
     "data": {
      "image/png": "[encoded data removed]",
      "text/plain": [
       "<Figure size 432x288 with 1 Axes>"
      ]
     },
     "metadata": {
      "needs_background": "light"
     },
     "output_type": "display_data"
    }
   ],
   "source": [
    "df_grouped.loc[df_grouped['rank_mvsk'] <= 50][\"rank_diff_md\"].hist()"
   ]
  },
  {
   "cell_type": "code",
   "execution_count": 26,
   "metadata": {},
   "outputs": [
    {
     "data": {
      "text/plain": [
       "1.62"
      ]
     },
     "execution_count": 26,
     "metadata": {},
     "output_type": "execute_result"
    }
   ],
   "source": [
    "df_grouped.loc[df_grouped['rank_mvsk'] <= 50][\"rank_diff_md\"].mean()"
   ]
  },
  {
   "cell_type": "code",
   "execution_count": 27,
   "metadata": {},
   "outputs": [
    {
     "data": {
      "text/plain": [
       "1.94715910275164"
      ]
     },
     "execution_count": 27,
     "metadata": {},
     "output_type": "execute_result"
    }
   ],
   "source": [
    "df_grouped.loc[df_grouped['rank_mvsk'] <= 50][\"rank_diff_md\"].std()"
   ]
  },
  {
   "cell_type": "markdown",
   "metadata": {},
   "source": [
    "А вот метод МВСК ведет себя похожим образом с методом, рассмотренным на занятии для первых 50 записей."
   ]
  },
  {
   "cell_type": "markdown",
   "metadata": {},
   "source": [
    "# Составление рейтинга для жанра Comedy"
   ]
  },
  {
   "cell_type": "code",
   "execution_count": 28,
   "metadata": {},
   "outputs": [
    {
     "data": {
      "text/html": [
       "<div>\n",
       "<style scoped>\n",
       "    .dataframe tbody tr th:only-of-type {\n",
       "        vertical-align: middle;\n",
       "    }\n",
       "\n",
       "    .dataframe tbody tr th {\n",
       "        vertical-align: top;\n",
       "    }\n",
       "\n",
       "    .dataframe thead th {\n",
       "        text-align: right;\n",
       "    }\n",
       "</style>\n",
       "<table border=\"1\" class=\"dataframe\">\n",
       "  <thead>\n",
       "    <tr style=\"text-align: right;\">\n",
       "      <th></th>\n",
       "      <th>userId</th>\n",
       "      <th>movieId</th>\n",
       "      <th>rating</th>\n",
       "      <th>timestamp</th>\n",
       "      <th>title</th>\n",
       "      <th>genres</th>\n",
       "    </tr>\n",
       "  </thead>\n",
       "  <tbody>\n",
       "    <tr>\n",
       "      <th>0</th>\n",
       "      <td>1</td>\n",
       "      <td>1</td>\n",
       "      <td>4.0</td>\n",
       "      <td>964982703</td>\n",
       "      <td>Toy Story (1995)</td>\n",
       "      <td>Adventure|Animation|Children|Comedy|Fantasy</td>\n",
       "    </tr>\n",
       "    <tr>\n",
       "      <th>1</th>\n",
       "      <td>1</td>\n",
       "      <td>3</td>\n",
       "      <td>4.0</td>\n",
       "      <td>964981247</td>\n",
       "      <td>Grumpier Old Men (1995)</td>\n",
       "      <td>Comedy|Romance</td>\n",
       "    </tr>\n",
       "    <tr>\n",
       "      <th>5</th>\n",
       "      <td>1</td>\n",
       "      <td>70</td>\n",
       "      <td>3.0</td>\n",
       "      <td>964982400</td>\n",
       "      <td>From Dusk Till Dawn (1996)</td>\n",
       "      <td>Action|Comedy|Horror|Thriller</td>\n",
       "    </tr>\n",
       "    <tr>\n",
       "      <th>6</th>\n",
       "      <td>1</td>\n",
       "      <td>101</td>\n",
       "      <td>5.0</td>\n",
       "      <td>964980868</td>\n",
       "      <td>Bottle Rocket (1996)</td>\n",
       "      <td>Adventure|Comedy|Crime|Romance</td>\n",
       "    </tr>\n",
       "    <tr>\n",
       "      <th>9</th>\n",
       "      <td>1</td>\n",
       "      <td>157</td>\n",
       "      <td>5.0</td>\n",
       "      <td>964984100</td>\n",
       "      <td>Canadian Bacon (1995)</td>\n",
       "      <td>Comedy|War</td>\n",
       "    </tr>\n",
       "  </tbody>\n",
       "</table>\n",
       "</div>"
      ],
      "text/plain": [
       "   userId  movieId  rating  timestamp                       title  \\\n",
       "0       1        1     4.0  964982703            Toy Story (1995)   \n",
       "1       1        3     4.0  964981247     Grumpier Old Men (1995)   \n",
       "5       1       70     3.0  964982400  From Dusk Till Dawn (1996)   \n",
       "6       1      101     5.0  964980868        Bottle Rocket (1996)   \n",
       "9       1      157     5.0  964984100       Canadian Bacon (1995)   \n",
       "\n",
       "                                        genres  \n",
       "0  Adventure|Animation|Children|Comedy|Fantasy  \n",
       "1                               Comedy|Romance  \n",
       "5                Action|Comedy|Horror|Thriller  \n",
       "6               Adventure|Comedy|Crime|Romance  \n",
       "9                                   Comedy|War  "
      ]
     },
     "execution_count": 28,
     "metadata": {},
     "output_type": "execute_result"
    }
   ],
   "source": [
    "df=joined_ratings[joined_ratings['genres'].str.contains('Comedy')]\n",
    "df.head()"
   ]
  },
  {
   "cell_type": "code",
   "execution_count": 29,
   "metadata": {},
   "outputs": [],
   "source": [
    "df_grouped=score_summerize(df)"
   ]
  },
  {
   "cell_type": "code",
   "execution_count": 30,
   "metadata": {},
   "outputs": [
    {
     "data": {
      "text/plain": [
       "{'count_quantile_75': 9.0,\n",
       " 'df_score_mean': 3.1815048623080564,\n",
       " 'df_score_max': 5.0,\n",
       " 'df_count_max': 329,\n",
       " 'df_count_mean': 10.408582089552239,\n",
       " 'df_count_min': 1}"
      ]
     },
     "execution_count": 30,
     "metadata": {},
     "output_type": "execute_result"
    }
   ],
   "source": [
    "df_ki=calc_key_indicators(df_grouped)\n",
    "df_ki"
   ]
  },
  {
   "cell_type": "code",
   "execution_count": 31,
   "metadata": {},
   "outputs": [],
   "source": [
    "df_grouped=calc_rating_kinopoisk(df_grouped)"
   ]
  },
  {
   "cell_type": "code",
   "execution_count": 32,
   "metadata": {},
   "outputs": [],
   "source": [
    "df_grouped=calc_rating_mvsk(df_grouped)"
   ]
  },
  {
   "cell_type": "code",
   "execution_count": 33,
   "metadata": {},
   "outputs": [],
   "source": [
    "df_grouped=calc_rating_default(df_grouped)"
   ]
  },
  {
   "cell_type": "code",
   "execution_count": 34,
   "metadata": {},
   "outputs": [],
   "source": [
    "df_grouped=calc_rating_default(df_grouped)"
   ]
  },
  {
   "cell_type": "code",
   "execution_count": 35,
   "metadata": {},
   "outputs": [],
   "source": [
    "df_grouped=calc_ranks(df_grouped)"
   ]
  },
  {
   "cell_type": "code",
   "execution_count": 36,
   "metadata": {},
   "outputs": [
    {
     "data": {
      "text/html": [
       "<div>\n",
       "<style scoped>\n",
       "    .dataframe tbody tr th:only-of-type {\n",
       "        vertical-align: middle;\n",
       "    }\n",
       "\n",
       "    .dataframe tbody tr th {\n",
       "        vertical-align: top;\n",
       "    }\n",
       "\n",
       "    .dataframe thead th {\n",
       "        text-align: right;\n",
       "    }\n",
       "</style>\n",
       "<table border=\"1\" class=\"dataframe\">\n",
       "  <thead>\n",
       "    <tr style=\"text-align: right;\">\n",
       "      <th></th>\n",
       "      <th>score</th>\n",
       "      <th>count</th>\n",
       "      <th>rating_kinopoisk</th>\n",
       "      <th>rating_mvsk</th>\n",
       "      <th>rating_default</th>\n",
       "      <th>rank_kinopoisk</th>\n",
       "      <th>rank_mvsk</th>\n",
       "      <th>rank_default</th>\n",
       "    </tr>\n",
       "    <tr>\n",
       "      <th>title</th>\n",
       "      <th></th>\n",
       "      <th></th>\n",
       "      <th></th>\n",
       "      <th></th>\n",
       "      <th></th>\n",
       "      <th></th>\n",
       "      <th></th>\n",
       "      <th></th>\n",
       "    </tr>\n",
       "  </thead>\n",
       "  <tbody>\n",
       "    <tr>\n",
       "      <th>Forrest Gump (1994)</th>\n",
       "      <td>4.164134</td>\n",
       "      <td>329</td>\n",
       "      <td>4.137969</td>\n",
       "      <td>0.924772</td>\n",
       "      <td>4.044687</td>\n",
       "      <td>4.0</td>\n",
       "      <td>1.0</td>\n",
       "      <td>1.0</td>\n",
       "    </tr>\n",
       "    <tr>\n",
       "      <th>Pulp Fiction (1994)</th>\n",
       "      <td>4.197068</td>\n",
       "      <td>307</td>\n",
       "      <td>4.168144</td>\n",
       "      <td>0.890958</td>\n",
       "      <td>3.795166</td>\n",
       "      <td>3.0</td>\n",
       "      <td>2.0</td>\n",
       "      <td>2.0</td>\n",
       "    </tr>\n",
       "    <tr>\n",
       "      <th>Toy Story (1995)</th>\n",
       "      <td>3.920930</td>\n",
       "      <td>215</td>\n",
       "      <td>3.891221</td>\n",
       "      <td>0.712306</td>\n",
       "      <td>2.445697</td>\n",
       "      <td>32.0</td>\n",
       "      <td>3.0</td>\n",
       "      <td>3.0</td>\n",
       "    </tr>\n",
       "    <tr>\n",
       "      <th>Fargo (1996)</th>\n",
       "      <td>4.116022</td>\n",
       "      <td>181</td>\n",
       "      <td>4.071755</td>\n",
       "      <td>0.673026</td>\n",
       "      <td>2.140726</td>\n",
       "      <td>7.0</td>\n",
       "      <td>4.0</td>\n",
       "      <td>4.0</td>\n",
       "    </tr>\n",
       "    <tr>\n",
       "      <th>Aladdin (1992)</th>\n",
       "      <td>3.792350</td>\n",
       "      <td>183</td>\n",
       "      <td>3.763716</td>\n",
       "      <td>0.647239</td>\n",
       "      <td>1.995509</td>\n",
       "      <td>95.0</td>\n",
       "      <td>6.0</td>\n",
       "      <td>5.0</td>\n",
       "    </tr>\n",
       "    <tr>\n",
       "      <th>Back to the Future (1985)</th>\n",
       "      <td>4.038012</td>\n",
       "      <td>171</td>\n",
       "      <td>3.995186</td>\n",
       "      <td>0.649287</td>\n",
       "      <td>1.977043</td>\n",
       "      <td>13.0</td>\n",
       "      <td>5.0</td>\n",
       "      <td>6.0</td>\n",
       "    </tr>\n",
       "    <tr>\n",
       "      <th>Shrek (2001)</th>\n",
       "      <td>3.867647</td>\n",
       "      <td>170</td>\n",
       "      <td>3.833148</td>\n",
       "      <td>0.632283</td>\n",
       "      <td>1.881839</td>\n",
       "      <td>53.0</td>\n",
       "      <td>7.0</td>\n",
       "      <td>7.0</td>\n",
       "    </tr>\n",
       "    <tr>\n",
       "      <th>True Lies (1994)</th>\n",
       "      <td>3.497191</td>\n",
       "      <td>178</td>\n",
       "      <td>3.481998</td>\n",
       "      <td>0.612316</td>\n",
       "      <td>1.786888</td>\n",
       "      <td>366.0</td>\n",
       "      <td>9.0</td>\n",
       "      <td>8.0</td>\n",
       "    </tr>\n",
       "    <tr>\n",
       "      <th>Princess Bride, The (1987)</th>\n",
       "      <td>4.232394</td>\n",
       "      <td>142</td>\n",
       "      <td>4.169759</td>\n",
       "      <td>0.618302</td>\n",
       "      <td>1.698008</td>\n",
       "      <td>2.0</td>\n",
       "      <td>8.0</td>\n",
       "      <td>9.0</td>\n",
       "    </tr>\n",
       "    <tr>\n",
       "      <th>Men in Black (a.k.a. MIB) (1997)</th>\n",
       "      <td>3.487879</td>\n",
       "      <td>165</td>\n",
       "      <td>3.472032</td>\n",
       "      <td>0.589745</td>\n",
       "      <td>1.643891</td>\n",
       "      <td>391.0</td>\n",
       "      <td>13.0</td>\n",
       "      <td>10.0</td>\n",
       "    </tr>\n",
       "  </tbody>\n",
       "</table>\n",
       "</div>"
      ],
      "text/plain": [
       "                                     score  count  rating_kinopoisk  \\\n",
       "title                                                                 \n",
       "Forrest Gump (1994)               4.164134    329          4.137969   \n",
       "Pulp Fiction (1994)               4.197068    307          4.168144   \n",
       "Toy Story (1995)                  3.920930    215          3.891221   \n",
       "Fargo (1996)                      4.116022    181          4.071755   \n",
       "Aladdin (1992)                    3.792350    183          3.763716   \n",
       "Back to the Future (1985)         4.038012    171          3.995186   \n",
       "Shrek (2001)                      3.867647    170          3.833148   \n",
       "True Lies (1994)                  3.497191    178          3.481998   \n",
       "Princess Bride, The (1987)        4.232394    142          4.169759   \n",
       "Men in Black (a.k.a. MIB) (1997)  3.487879    165          3.472032   \n",
       "\n",
       "                                  rating_mvsk  rating_default  rank_kinopoisk  \\\n",
       "title                                                                           \n",
       "Forrest Gump (1994)                  0.924772        4.044687             4.0   \n",
       "Pulp Fiction (1994)                  0.890958        3.795166             3.0   \n",
       "Toy Story (1995)                     0.712306        2.445697            32.0   \n",
       "Fargo (1996)                         0.673026        2.140726             7.0   \n",
       "Aladdin (1992)                       0.647239        1.995509            95.0   \n",
       "Back to the Future (1985)            0.649287        1.977043            13.0   \n",
       "Shrek (2001)                         0.632283        1.881839            53.0   \n",
       "True Lies (1994)                     0.612316        1.786888           366.0   \n",
       "Princess Bride, The (1987)           0.618302        1.698008             2.0   \n",
       "Men in Black (a.k.a. MIB) (1997)     0.589745        1.643891           391.0   \n",
       "\n",
       "                                  rank_mvsk  rank_default  \n",
       "title                                                      \n",
       "Forrest Gump (1994)                     1.0           1.0  \n",
       "Pulp Fiction (1994)                     2.0           2.0  \n",
       "Toy Story (1995)                        3.0           3.0  \n",
       "Fargo (1996)                            4.0           4.0  \n",
       "Aladdin (1992)                          6.0           5.0  \n",
       "Back to the Future (1985)               5.0           6.0  \n",
       "Shrek (2001)                            7.0           7.0  \n",
       "True Lies (1994)                        9.0           8.0  \n",
       "Princess Bride, The (1987)              8.0           9.0  \n",
       "Men in Black (a.k.a. MIB) (1997)       13.0          10.0  "
      ]
     },
     "execution_count": 36,
     "metadata": {},
     "output_type": "execute_result"
    }
   ],
   "source": [
    "df_grouped.sort_values(by=\"rating_default\", inplace=True, ascending=False)\n",
    "df_grouped.head(10)"
   ]
  },
  {
   "cell_type": "code",
   "execution_count": 37,
   "metadata": {},
   "outputs": [],
   "source": [
    "df_grouped=calc_rank_difference(df_grouped)"
   ]
  },
  {
   "cell_type": "code",
   "execution_count": 38,
   "metadata": {},
   "outputs": [
    {
     "data": {
      "text/plain": [
       "4.68"
      ]
     },
     "execution_count": 38,
     "metadata": {},
     "output_type": "execute_result"
    }
   ],
   "source": [
    "df_grouped.loc[df_grouped['rank_mvsk'] <= 50][\"rank_diff_md\"].mean()"
   ]
  },
  {
   "cell_type": "code",
   "execution_count": 39,
   "metadata": {},
   "outputs": [
    {
     "data": {
      "text/plain": [
       "4.858991244936272"
      ]
     },
     "execution_count": 39,
     "metadata": {},
     "output_type": "execute_result"
    }
   ],
   "source": [
    "df_grouped.loc[df_grouped['rank_mvsk'] <= 50][\"rank_diff_md\"].std()"
   ]
  },
  {
   "cell_type": "code",
   "execution_count": 40,
   "metadata": {},
   "outputs": [
    {
     "data": {
      "text/plain": [
       "<matplotlib.axes._subplots.AxesSubplot at 0x1202c45f8>"
      ]
     },
     "execution_count": 40,
     "metadata": {},
     "output_type": "execute_result"
    },
    {
     "data": {
      "image/png": "[encoded data removed]",
      "text/plain": [
       "<Figure size 432x288 with 1 Axes>"
      ]
     },
     "metadata": {
      "needs_background": "light"
     },
     "output_type": "display_data"
    }
   ],
   "source": [
    "df_grouped.loc[df_grouped['rank_mvsk'] <= 50][\"rank_diff_md\"].hist()"
   ]
  },
  {
   "cell_type": "markdown",
   "metadata": {},
   "source": [
    "Для другого жанра различие стало больше"
   ]
  },
  {
   "cell_type": "code",
   "execution_count": null,
   "metadata": {},
   "outputs": [],
   "source": []
  }
 ],
 "metadata": {
  "kernelspec": {
   "display_name": "Python 3",
   "language": "python",
   "name": "python3"
  },
  "language_info": {
   "codemirror_mode": {
    "name": "ipython",
    "version": 3
   },
   "file_extension": ".py",
   "mimetype": "text/x-python",
   "name": "python",
   "nbconvert_exporter": "python",
   "pygments_lexer": "ipython3",
   "version": "3.7.3"
  }
 },
 "nbformat": 4,
 "nbformat_minor": 2
}
